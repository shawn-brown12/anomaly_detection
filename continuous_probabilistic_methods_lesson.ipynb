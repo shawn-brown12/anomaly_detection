{
 "cells": [
  {
   "cell_type": "markdown",
   "id": "483a4cb6",
   "metadata": {},
   "source": [
    "# Anomaly Detection: Continious Variable Probabilistic Methods for Identifying Outliers"
   ]
  },
  {
   "cell_type": "code",
   "execution_count": 36,
   "id": "3cfb3a40",
   "metadata": {},
   "outputs": [],
   "source": [
    "import numpy as np\n",
    "import pandas as pd\n",
    "import seaborn as sns\n",
    "import itertools\n",
    "from pydataset import data\n",
    "\n",
    "import matplotlib.pyplot as plt\n",
    "%matplotlib inline"
   ]
  },
  {
   "cell_type": "markdown",
   "id": "c79a887d",
   "metadata": {},
   "source": [
    "<hr style=\"border:2px solid gray\">"
   ]
  },
  {
   "cell_type": "code",
   "execution_count": 37,
   "id": "0b7d2b6b",
   "metadata": {},
   "outputs": [],
   "source": [
    "url = \"https://gist.githubusercontent.com/ryanorsinger/6218f5731f3df7cb4771ff3879fdeaa3/raw/88cb6bed276e2236c33df011bd753b6c73832c30/quartet.csv\"    "
   ]
  },
  {
   "cell_type": "code",
   "execution_count": 38,
   "id": "14795c60",
   "metadata": {},
   "outputs": [],
   "source": [
    "df = pd.read_csv(url)"
   ]
  },
  {
   "cell_type": "code",
   "execution_count": 39,
   "id": "a2e618cc",
   "metadata": {},
   "outputs": [
    {
     "data": {
      "text/html": [
       "<div>\n",
       "<style scoped>\n",
       "    .dataframe tbody tr th:only-of-type {\n",
       "        vertical-align: middle;\n",
       "    }\n",
       "\n",
       "    .dataframe tbody tr th {\n",
       "        vertical-align: top;\n",
       "    }\n",
       "\n",
       "    .dataframe thead th {\n",
       "        text-align: right;\n",
       "    }\n",
       "</style>\n",
       "<table border=\"1\" class=\"dataframe\">\n",
       "  <thead>\n",
       "    <tr style=\"text-align: right;\">\n",
       "      <th></th>\n",
       "      <th>id</th>\n",
       "      <th>dataset</th>\n",
       "      <th>x</th>\n",
       "      <th>y</th>\n",
       "    </tr>\n",
       "  </thead>\n",
       "  <tbody>\n",
       "    <tr>\n",
       "      <th>22</th>\n",
       "      <td>22</td>\n",
       "      <td>III</td>\n",
       "      <td>10.0</td>\n",
       "      <td>7.46</td>\n",
       "    </tr>\n",
       "    <tr>\n",
       "      <th>1</th>\n",
       "      <td>1</td>\n",
       "      <td>I</td>\n",
       "      <td>8.0</td>\n",
       "      <td>6.95</td>\n",
       "    </tr>\n",
       "    <tr>\n",
       "      <th>39</th>\n",
       "      <td>39</td>\n",
       "      <td>IV</td>\n",
       "      <td>8.0</td>\n",
       "      <td>5.25</td>\n",
       "    </tr>\n",
       "  </tbody>\n",
       "</table>\n",
       "</div>"
      ],
      "text/plain": [
       "    id dataset     x     y\n",
       "22  22     III  10.0  7.46\n",
       "1    1       I   8.0  6.95\n",
       "39  39      IV   8.0  5.25"
      ]
     },
     "execution_count": 39,
     "metadata": {},
     "output_type": "execute_result"
    }
   ],
   "source": [
    "df.sample(3)"
   ]
  },
  {
   "cell_type": "code",
   "execution_count": 40,
   "id": "94e746c7",
   "metadata": {},
   "outputs": [
    {
     "data": {
      "text/html": [
       "<div>\n",
       "<style scoped>\n",
       "    .dataframe tbody tr th:only-of-type {\n",
       "        vertical-align: middle;\n",
       "    }\n",
       "\n",
       "    .dataframe tbody tr th {\n",
       "        vertical-align: top;\n",
       "    }\n",
       "\n",
       "    .dataframe thead tr th {\n",
       "        text-align: left;\n",
       "    }\n",
       "\n",
       "    .dataframe thead tr:last-of-type th {\n",
       "        text-align: right;\n",
       "    }\n",
       "</style>\n",
       "<table border=\"1\" class=\"dataframe\">\n",
       "  <thead>\n",
       "    <tr>\n",
       "      <th></th>\n",
       "      <th colspan=\"8\" halign=\"left\">id</th>\n",
       "      <th colspan=\"5\" halign=\"left\">x</th>\n",
       "      <th colspan=\"8\" halign=\"left\">y</th>\n",
       "    </tr>\n",
       "    <tr>\n",
       "      <th></th>\n",
       "      <th>count</th>\n",
       "      <th>mean</th>\n",
       "      <th>std</th>\n",
       "      <th>min</th>\n",
       "      <th>25%</th>\n",
       "      <th>50%</th>\n",
       "      <th>75%</th>\n",
       "      <th>max</th>\n",
       "      <th>count</th>\n",
       "      <th>mean</th>\n",
       "      <th>...</th>\n",
       "      <th>75%</th>\n",
       "      <th>max</th>\n",
       "      <th>count</th>\n",
       "      <th>mean</th>\n",
       "      <th>std</th>\n",
       "      <th>min</th>\n",
       "      <th>25%</th>\n",
       "      <th>50%</th>\n",
       "      <th>75%</th>\n",
       "      <th>max</th>\n",
       "    </tr>\n",
       "    <tr>\n",
       "      <th>dataset</th>\n",
       "      <th></th>\n",
       "      <th></th>\n",
       "      <th></th>\n",
       "      <th></th>\n",
       "      <th></th>\n",
       "      <th></th>\n",
       "      <th></th>\n",
       "      <th></th>\n",
       "      <th></th>\n",
       "      <th></th>\n",
       "      <th></th>\n",
       "      <th></th>\n",
       "      <th></th>\n",
       "      <th></th>\n",
       "      <th></th>\n",
       "      <th></th>\n",
       "      <th></th>\n",
       "      <th></th>\n",
       "      <th></th>\n",
       "      <th></th>\n",
       "      <th></th>\n",
       "    </tr>\n",
       "  </thead>\n",
       "  <tbody>\n",
       "    <tr>\n",
       "      <th>I</th>\n",
       "      <td>11.0</td>\n",
       "      <td>5.0</td>\n",
       "      <td>3.316625</td>\n",
       "      <td>0.0</td>\n",
       "      <td>2.5</td>\n",
       "      <td>5.0</td>\n",
       "      <td>7.5</td>\n",
       "      <td>10.0</td>\n",
       "      <td>11.0</td>\n",
       "      <td>9.0</td>\n",
       "      <td>...</td>\n",
       "      <td>11.5</td>\n",
       "      <td>14.0</td>\n",
       "      <td>11.0</td>\n",
       "      <td>7.500909</td>\n",
       "      <td>2.031568</td>\n",
       "      <td>4.26</td>\n",
       "      <td>6.315</td>\n",
       "      <td>7.58</td>\n",
       "      <td>8.57</td>\n",
       "      <td>10.84</td>\n",
       "    </tr>\n",
       "    <tr>\n",
       "      <th>II</th>\n",
       "      <td>11.0</td>\n",
       "      <td>16.0</td>\n",
       "      <td>3.316625</td>\n",
       "      <td>11.0</td>\n",
       "      <td>13.5</td>\n",
       "      <td>16.0</td>\n",
       "      <td>18.5</td>\n",
       "      <td>21.0</td>\n",
       "      <td>11.0</td>\n",
       "      <td>9.0</td>\n",
       "      <td>...</td>\n",
       "      <td>11.5</td>\n",
       "      <td>14.0</td>\n",
       "      <td>11.0</td>\n",
       "      <td>7.500909</td>\n",
       "      <td>2.031657</td>\n",
       "      <td>3.10</td>\n",
       "      <td>6.695</td>\n",
       "      <td>8.14</td>\n",
       "      <td>8.95</td>\n",
       "      <td>9.26</td>\n",
       "    </tr>\n",
       "    <tr>\n",
       "      <th>III</th>\n",
       "      <td>11.0</td>\n",
       "      <td>27.0</td>\n",
       "      <td>3.316625</td>\n",
       "      <td>22.0</td>\n",
       "      <td>24.5</td>\n",
       "      <td>27.0</td>\n",
       "      <td>29.5</td>\n",
       "      <td>32.0</td>\n",
       "      <td>11.0</td>\n",
       "      <td>9.0</td>\n",
       "      <td>...</td>\n",
       "      <td>11.5</td>\n",
       "      <td>14.0</td>\n",
       "      <td>11.0</td>\n",
       "      <td>7.500000</td>\n",
       "      <td>2.030424</td>\n",
       "      <td>5.39</td>\n",
       "      <td>6.250</td>\n",
       "      <td>7.11</td>\n",
       "      <td>7.98</td>\n",
       "      <td>12.74</td>\n",
       "    </tr>\n",
       "    <tr>\n",
       "      <th>IV</th>\n",
       "      <td>11.0</td>\n",
       "      <td>38.0</td>\n",
       "      <td>3.316625</td>\n",
       "      <td>33.0</td>\n",
       "      <td>35.5</td>\n",
       "      <td>38.0</td>\n",
       "      <td>40.5</td>\n",
       "      <td>43.0</td>\n",
       "      <td>11.0</td>\n",
       "      <td>9.0</td>\n",
       "      <td>...</td>\n",
       "      <td>8.0</td>\n",
       "      <td>19.0</td>\n",
       "      <td>11.0</td>\n",
       "      <td>7.500909</td>\n",
       "      <td>2.030579</td>\n",
       "      <td>5.25</td>\n",
       "      <td>6.170</td>\n",
       "      <td>7.04</td>\n",
       "      <td>8.19</td>\n",
       "      <td>12.50</td>\n",
       "    </tr>\n",
       "  </tbody>\n",
       "</table>\n",
       "<p>4 rows × 24 columns</p>\n",
       "</div>"
      ],
      "text/plain": [
       "           id                                                   x       ...  \\\n",
       "        count  mean       std   min   25%   50%   75%   max count mean  ...   \n",
       "dataset                                                                 ...   \n",
       "I        11.0   5.0  3.316625   0.0   2.5   5.0   7.5  10.0  11.0  9.0  ...   \n",
       "II       11.0  16.0  3.316625  11.0  13.5  16.0  18.5  21.0  11.0  9.0  ...   \n",
       "III      11.0  27.0  3.316625  22.0  24.5  27.0  29.5  32.0  11.0  9.0  ...   \n",
       "IV       11.0  38.0  3.316625  33.0  35.5  38.0  40.5  43.0  11.0  9.0  ...   \n",
       "\n",
       "                        y                                                      \n",
       "          75%   max count      mean       std   min    25%   50%   75%    max  \n",
       "dataset                                                                        \n",
       "I        11.5  14.0  11.0  7.500909  2.031568  4.26  6.315  7.58  8.57  10.84  \n",
       "II       11.5  14.0  11.0  7.500909  2.031657  3.10  6.695  8.14  8.95   9.26  \n",
       "III      11.5  14.0  11.0  7.500000  2.030424  5.39  6.250  7.11  7.98  12.74  \n",
       "IV        8.0  19.0  11.0  7.500909  2.030579  5.25  6.170  7.04  8.19  12.50  \n",
       "\n",
       "[4 rows x 24 columns]"
      ]
     },
     "execution_count": 40,
     "metadata": {},
     "output_type": "execute_result"
    }
   ],
   "source": [
    "df.groupby('dataset').describe()"
   ]
  },
  {
   "cell_type": "code",
   "execution_count": 41,
   "id": "1b032b3a",
   "metadata": {},
   "outputs": [],
   "source": [
    "mycols = list(itertools.product(['x','y'], ['50%', 'mean', 'max','std']))"
   ]
  },
  {
   "cell_type": "code",
   "execution_count": 42,
   "id": "273d0a4a",
   "metadata": {},
   "outputs": [
    {
     "data": {
      "text/html": [
       "<div>\n",
       "<style scoped>\n",
       "    .dataframe tbody tr th:only-of-type {\n",
       "        vertical-align: middle;\n",
       "    }\n",
       "\n",
       "    .dataframe tbody tr th {\n",
       "        vertical-align: top;\n",
       "    }\n",
       "\n",
       "    .dataframe thead tr th {\n",
       "        text-align: left;\n",
       "    }\n",
       "\n",
       "    .dataframe thead tr:last-of-type th {\n",
       "        text-align: right;\n",
       "    }\n",
       "</style>\n",
       "<table border=\"1\" class=\"dataframe\">\n",
       "  <thead>\n",
       "    <tr>\n",
       "      <th></th>\n",
       "      <th colspan=\"4\" halign=\"left\">x</th>\n",
       "      <th colspan=\"4\" halign=\"left\">y</th>\n",
       "    </tr>\n",
       "    <tr>\n",
       "      <th></th>\n",
       "      <th>50%</th>\n",
       "      <th>mean</th>\n",
       "      <th>max</th>\n",
       "      <th>std</th>\n",
       "      <th>50%</th>\n",
       "      <th>mean</th>\n",
       "      <th>max</th>\n",
       "      <th>std</th>\n",
       "    </tr>\n",
       "    <tr>\n",
       "      <th>dataset</th>\n",
       "      <th></th>\n",
       "      <th></th>\n",
       "      <th></th>\n",
       "      <th></th>\n",
       "      <th></th>\n",
       "      <th></th>\n",
       "      <th></th>\n",
       "      <th></th>\n",
       "    </tr>\n",
       "  </thead>\n",
       "  <tbody>\n",
       "    <tr>\n",
       "      <th>I</th>\n",
       "      <td>9.0</td>\n",
       "      <td>9.0</td>\n",
       "      <td>14.0</td>\n",
       "      <td>3.316625</td>\n",
       "      <td>7.58</td>\n",
       "      <td>7.500909</td>\n",
       "      <td>10.84</td>\n",
       "      <td>2.031568</td>\n",
       "    </tr>\n",
       "    <tr>\n",
       "      <th>II</th>\n",
       "      <td>9.0</td>\n",
       "      <td>9.0</td>\n",
       "      <td>14.0</td>\n",
       "      <td>3.316625</td>\n",
       "      <td>8.14</td>\n",
       "      <td>7.500909</td>\n",
       "      <td>9.26</td>\n",
       "      <td>2.031657</td>\n",
       "    </tr>\n",
       "    <tr>\n",
       "      <th>III</th>\n",
       "      <td>9.0</td>\n",
       "      <td>9.0</td>\n",
       "      <td>14.0</td>\n",
       "      <td>3.316625</td>\n",
       "      <td>7.11</td>\n",
       "      <td>7.500000</td>\n",
       "      <td>12.74</td>\n",
       "      <td>2.030424</td>\n",
       "    </tr>\n",
       "    <tr>\n",
       "      <th>IV</th>\n",
       "      <td>8.0</td>\n",
       "      <td>9.0</td>\n",
       "      <td>19.0</td>\n",
       "      <td>3.316625</td>\n",
       "      <td>7.04</td>\n",
       "      <td>7.500909</td>\n",
       "      <td>12.50</td>\n",
       "      <td>2.030579</td>\n",
       "    </tr>\n",
       "  </tbody>\n",
       "</table>\n",
       "</div>"
      ],
      "text/plain": [
       "           x                          y                           \n",
       "         50% mean   max       std   50%      mean    max       std\n",
       "dataset                                                           \n",
       "I        9.0  9.0  14.0  3.316625  7.58  7.500909  10.84  2.031568\n",
       "II       9.0  9.0  14.0  3.316625  8.14  7.500909   9.26  2.031657\n",
       "III      9.0  9.0  14.0  3.316625  7.11  7.500000  12.74  2.030424\n",
       "IV       8.0  9.0  19.0  3.316625  7.04  7.500909  12.50  2.030579"
      ]
     },
     "execution_count": 42,
     "metadata": {},
     "output_type": "execute_result"
    }
   ],
   "source": [
    "df.groupby(\"dataset\").describe()[mycols]"
   ]
  },
  {
   "cell_type": "code",
   "execution_count": 43,
   "id": "e236c85b",
   "metadata": {},
   "outputs": [
    {
     "data": {
      "text/plain": [
       "<seaborn.axisgrid.FacetGrid at 0x1585995e0>"
      ]
     },
     "execution_count": 43,
     "metadata": {},
     "output_type": "execute_result"
    },
    {
     "data": {
      "image/png": "[encoded data removed]",
      "text/plain": [
       "<Figure size 2000x500 with 4 Axes>"
      ]
     },
     "metadata": {},
     "output_type": "display_data"
    }
   ],
   "source": [
    "sns.relplot(x='x', y='y',col='dataset', data=df)"
   ]
  },
  {
   "cell_type": "code",
   "execution_count": null,
   "id": "7ae06e5f",
   "metadata": {},
   "outputs": [],
   "source": []
  },
  {
   "cell_type": "markdown",
   "id": "b1c6b579",
   "metadata": {},
   "source": [
    "<b> Why do we visualize our data?</b>:\n",
    "- Look at distribution and spread:\n",
    "    - boxplots (univariate)\n",
    "    - histograms (univariate): gap in information means there is likely an outlier\n",
    "    - scatter plots\n",
    "* These can show us outliers\n",
    "\n",
    "<br>\n",
    "\n",
    "- Descriptive statistics do not tell the whole story\n",
    "    - all the same stats for each feature (mean, median, max, min, etc)\n",
    "    - but the data is all different\n",
    "    - this is why we must visualize"
   ]
  },
  {
   "cell_type": "markdown",
   "id": "9a00c4e1",
   "metadata": {},
   "source": [
    "<b>Ascombe's Quartet</b>: specific instance that is indicative of the fact that descriptive stats do not tell the enture picture\n",
    "- 4 different datasets in this dataframe\n",
    "- The measures of central tendancy as well as min/max don't identify the shape our any outliers\n",
    "- The linear model for each quartet dataset has almost the exact same slope and intercept\n",
    "- The visualization makes the general trends of the data, as well as the presence of outliers, crystal clear"
   ]
  },
  {
   "cell_type": "markdown",
   "id": "f74414ef",
   "metadata": {},
   "source": [
    "<b> Let's take a look at this again</b>"
   ]
  },
  {
   "cell_type": "code",
   "execution_count": 2,
   "id": "b0777bd2",
   "metadata": {},
   "outputs": [],
   "source": [
    "#call the url we are wanting to use\n",
    "url = \"https://gist.githubusercontent.com/ryanorsinger/6218f5731f3df7cb4771ff3879fdeaa3/raw/88cb6bed276e2236c33df011bd753b6c73832c30/quartet.csv\"\n",
    "\n",
    "#read in that csv using pandas\n",
    "df = pd.read_csv(url)"
   ]
  },
  {
   "cell_type": "code",
   "execution_count": 3,
   "id": "a903a731",
   "metadata": {},
   "outputs": [
    {
     "data": {
      "text/html": [
       "<div>\n",
       "<style scoped>\n",
       "    .dataframe tbody tr th:only-of-type {\n",
       "        vertical-align: middle;\n",
       "    }\n",
       "\n",
       "    .dataframe tbody tr th {\n",
       "        vertical-align: top;\n",
       "    }\n",
       "\n",
       "    .dataframe thead th {\n",
       "        text-align: right;\n",
       "    }\n",
       "</style>\n",
       "<table border=\"1\" class=\"dataframe\">\n",
       "  <thead>\n",
       "    <tr style=\"text-align: right;\">\n",
       "      <th></th>\n",
       "      <th>id</th>\n",
       "      <th>dataset</th>\n",
       "      <th>x</th>\n",
       "      <th>y</th>\n",
       "    </tr>\n",
       "  </thead>\n",
       "  <tbody>\n",
       "    <tr>\n",
       "      <th>25</th>\n",
       "      <td>25</td>\n",
       "      <td>III</td>\n",
       "      <td>9.0</td>\n",
       "      <td>7.11</td>\n",
       "    </tr>\n",
       "    <tr>\n",
       "      <th>22</th>\n",
       "      <td>22</td>\n",
       "      <td>III</td>\n",
       "      <td>10.0</td>\n",
       "      <td>7.46</td>\n",
       "    </tr>\n",
       "    <tr>\n",
       "      <th>1</th>\n",
       "      <td>1</td>\n",
       "      <td>I</td>\n",
       "      <td>8.0</td>\n",
       "      <td>6.95</td>\n",
       "    </tr>\n",
       "  </tbody>\n",
       "</table>\n",
       "</div>"
      ],
      "text/plain": [
       "    id dataset     x     y\n",
       "25  25     III   9.0  7.11\n",
       "22  22     III  10.0  7.46\n",
       "1    1       I   8.0  6.95"
      ]
     },
     "execution_count": 3,
     "metadata": {},
     "output_type": "execute_result"
    }
   ],
   "source": [
    "#take a look at the data\n",
    "df.sample(3)"
   ]
  },
  {
   "cell_type": "code",
   "execution_count": 4,
   "id": "2f63f12d",
   "metadata": {},
   "outputs": [
    {
     "name": "stdout",
     "output_type": "stream",
     "text": [
      "<class 'pandas.core.frame.DataFrame'>\n",
      "RangeIndex: 44 entries, 0 to 43\n",
      "Data columns (total 4 columns):\n",
      " #   Column   Non-Null Count  Dtype  \n",
      "---  ------   --------------  -----  \n",
      " 0   id       44 non-null     int64  \n",
      " 1   dataset  44 non-null     object \n",
      " 2   x        44 non-null     float64\n",
      " 3   y        44 non-null     float64\n",
      "dtypes: float64(2), int64(1), object(1)\n",
      "memory usage: 1.5+ KB\n"
     ]
    }
   ],
   "source": [
    "df.info()"
   ]
  },
  {
   "cell_type": "code",
   "execution_count": 5,
   "id": "4102033b",
   "metadata": {},
   "outputs": [
    {
     "data": {
      "text/html": [
       "<div>\n",
       "<style scoped>\n",
       "    .dataframe tbody tr th:only-of-type {\n",
       "        vertical-align: middle;\n",
       "    }\n",
       "\n",
       "    .dataframe tbody tr th {\n",
       "        vertical-align: top;\n",
       "    }\n",
       "\n",
       "    .dataframe thead th {\n",
       "        text-align: right;\n",
       "    }\n",
       "</style>\n",
       "<table border=\"1\" class=\"dataframe\">\n",
       "  <thead>\n",
       "    <tr style=\"text-align: right;\">\n",
       "      <th></th>\n",
       "      <th>count</th>\n",
       "      <th>mean</th>\n",
       "      <th>std</th>\n",
       "      <th>min</th>\n",
       "      <th>25%</th>\n",
       "      <th>50%</th>\n",
       "      <th>75%</th>\n",
       "      <th>max</th>\n",
       "    </tr>\n",
       "  </thead>\n",
       "  <tbody>\n",
       "    <tr>\n",
       "      <th>id</th>\n",
       "      <td>44.0</td>\n",
       "      <td>21.500000</td>\n",
       "      <td>12.845233</td>\n",
       "      <td>0.0</td>\n",
       "      <td>10.7500</td>\n",
       "      <td>21.50</td>\n",
       "      <td>32.2500</td>\n",
       "      <td>43.00</td>\n",
       "    </tr>\n",
       "    <tr>\n",
       "      <th>x</th>\n",
       "      <td>44.0</td>\n",
       "      <td>9.000000</td>\n",
       "      <td>3.198837</td>\n",
       "      <td>4.0</td>\n",
       "      <td>7.0000</td>\n",
       "      <td>8.00</td>\n",
       "      <td>11.0000</td>\n",
       "      <td>19.00</td>\n",
       "    </tr>\n",
       "    <tr>\n",
       "      <th>y</th>\n",
       "      <td>44.0</td>\n",
       "      <td>7.500682</td>\n",
       "      <td>1.958925</td>\n",
       "      <td>3.1</td>\n",
       "      <td>6.1175</td>\n",
       "      <td>7.52</td>\n",
       "      <td>8.7475</td>\n",
       "      <td>12.74</td>\n",
       "    </tr>\n",
       "  </tbody>\n",
       "</table>\n",
       "</div>"
      ],
      "text/plain": [
       "    count       mean        std  min      25%    50%      75%    max\n",
       "id   44.0  21.500000  12.845233  0.0  10.7500  21.50  32.2500  43.00\n",
       "x    44.0   9.000000   3.198837  4.0   7.0000   8.00  11.0000  19.00\n",
       "y    44.0   7.500682   1.958925  3.1   6.1175   7.52   8.7475  12.74"
      ]
     },
     "execution_count": 5,
     "metadata": {},
     "output_type": "execute_result"
    }
   ],
   "source": [
    "df.describe().T"
   ]
  },
  {
   "cell_type": "markdown",
   "id": "87682fd9",
   "metadata": {},
   "source": [
    "<b>Note:</b>\n",
    "- We can see that there are layers to this dataframe.\n",
    "- Let's consider grouping by dataset (since there are 4 separate datasets)"
   ]
  },
  {
   "cell_type": "code",
   "execution_count": 6,
   "id": "32be8358",
   "metadata": {},
   "outputs": [
    {
     "data": {
      "text/html": [
       "<div>\n",
       "<style scoped>\n",
       "    .dataframe tbody tr th:only-of-type {\n",
       "        vertical-align: middle;\n",
       "    }\n",
       "\n",
       "    .dataframe tbody tr th {\n",
       "        vertical-align: top;\n",
       "    }\n",
       "\n",
       "    .dataframe thead tr th {\n",
       "        text-align: left;\n",
       "    }\n",
       "\n",
       "    .dataframe thead tr:last-of-type th {\n",
       "        text-align: right;\n",
       "    }\n",
       "</style>\n",
       "<table border=\"1\" class=\"dataframe\">\n",
       "  <thead>\n",
       "    <tr>\n",
       "      <th></th>\n",
       "      <th colspan=\"8\" halign=\"left\">id</th>\n",
       "      <th colspan=\"5\" halign=\"left\">x</th>\n",
       "      <th colspan=\"8\" halign=\"left\">y</th>\n",
       "    </tr>\n",
       "    <tr>\n",
       "      <th></th>\n",
       "      <th>count</th>\n",
       "      <th>mean</th>\n",
       "      <th>std</th>\n",
       "      <th>min</th>\n",
       "      <th>25%</th>\n",
       "      <th>50%</th>\n",
       "      <th>75%</th>\n",
       "      <th>max</th>\n",
       "      <th>count</th>\n",
       "      <th>mean</th>\n",
       "      <th>...</th>\n",
       "      <th>75%</th>\n",
       "      <th>max</th>\n",
       "      <th>count</th>\n",
       "      <th>mean</th>\n",
       "      <th>std</th>\n",
       "      <th>min</th>\n",
       "      <th>25%</th>\n",
       "      <th>50%</th>\n",
       "      <th>75%</th>\n",
       "      <th>max</th>\n",
       "    </tr>\n",
       "    <tr>\n",
       "      <th>dataset</th>\n",
       "      <th></th>\n",
       "      <th></th>\n",
       "      <th></th>\n",
       "      <th></th>\n",
       "      <th></th>\n",
       "      <th></th>\n",
       "      <th></th>\n",
       "      <th></th>\n",
       "      <th></th>\n",
       "      <th></th>\n",
       "      <th></th>\n",
       "      <th></th>\n",
       "      <th></th>\n",
       "      <th></th>\n",
       "      <th></th>\n",
       "      <th></th>\n",
       "      <th></th>\n",
       "      <th></th>\n",
       "      <th></th>\n",
       "      <th></th>\n",
       "      <th></th>\n",
       "    </tr>\n",
       "  </thead>\n",
       "  <tbody>\n",
       "    <tr>\n",
       "      <th>I</th>\n",
       "      <td>11.0</td>\n",
       "      <td>5.0</td>\n",
       "      <td>3.316625</td>\n",
       "      <td>0.0</td>\n",
       "      <td>2.5</td>\n",
       "      <td>5.0</td>\n",
       "      <td>7.5</td>\n",
       "      <td>10.0</td>\n",
       "      <td>11.0</td>\n",
       "      <td>9.0</td>\n",
       "      <td>...</td>\n",
       "      <td>11.5</td>\n",
       "      <td>14.0</td>\n",
       "      <td>11.0</td>\n",
       "      <td>7.500909</td>\n",
       "      <td>2.031568</td>\n",
       "      <td>4.26</td>\n",
       "      <td>6.315</td>\n",
       "      <td>7.58</td>\n",
       "      <td>8.57</td>\n",
       "      <td>10.84</td>\n",
       "    </tr>\n",
       "    <tr>\n",
       "      <th>II</th>\n",
       "      <td>11.0</td>\n",
       "      <td>16.0</td>\n",
       "      <td>3.316625</td>\n",
       "      <td>11.0</td>\n",
       "      <td>13.5</td>\n",
       "      <td>16.0</td>\n",
       "      <td>18.5</td>\n",
       "      <td>21.0</td>\n",
       "      <td>11.0</td>\n",
       "      <td>9.0</td>\n",
       "      <td>...</td>\n",
       "      <td>11.5</td>\n",
       "      <td>14.0</td>\n",
       "      <td>11.0</td>\n",
       "      <td>7.500909</td>\n",
       "      <td>2.031657</td>\n",
       "      <td>3.10</td>\n",
       "      <td>6.695</td>\n",
       "      <td>8.14</td>\n",
       "      <td>8.95</td>\n",
       "      <td>9.26</td>\n",
       "    </tr>\n",
       "    <tr>\n",
       "      <th>III</th>\n",
       "      <td>11.0</td>\n",
       "      <td>27.0</td>\n",
       "      <td>3.316625</td>\n",
       "      <td>22.0</td>\n",
       "      <td>24.5</td>\n",
       "      <td>27.0</td>\n",
       "      <td>29.5</td>\n",
       "      <td>32.0</td>\n",
       "      <td>11.0</td>\n",
       "      <td>9.0</td>\n",
       "      <td>...</td>\n",
       "      <td>11.5</td>\n",
       "      <td>14.0</td>\n",
       "      <td>11.0</td>\n",
       "      <td>7.500000</td>\n",
       "      <td>2.030424</td>\n",
       "      <td>5.39</td>\n",
       "      <td>6.250</td>\n",
       "      <td>7.11</td>\n",
       "      <td>7.98</td>\n",
       "      <td>12.74</td>\n",
       "    </tr>\n",
       "    <tr>\n",
       "      <th>IV</th>\n",
       "      <td>11.0</td>\n",
       "      <td>38.0</td>\n",
       "      <td>3.316625</td>\n",
       "      <td>33.0</td>\n",
       "      <td>35.5</td>\n",
       "      <td>38.0</td>\n",
       "      <td>40.5</td>\n",
       "      <td>43.0</td>\n",
       "      <td>11.0</td>\n",
       "      <td>9.0</td>\n",
       "      <td>...</td>\n",
       "      <td>8.0</td>\n",
       "      <td>19.0</td>\n",
       "      <td>11.0</td>\n",
       "      <td>7.500909</td>\n",
       "      <td>2.030579</td>\n",
       "      <td>5.25</td>\n",
       "      <td>6.170</td>\n",
       "      <td>7.04</td>\n",
       "      <td>8.19</td>\n",
       "      <td>12.50</td>\n",
       "    </tr>\n",
       "  </tbody>\n",
       "</table>\n",
       "<p>4 rows × 24 columns</p>\n",
       "</div>"
      ],
      "text/plain": [
       "           id                                                   x       ...  \\\n",
       "        count  mean       std   min   25%   50%   75%   max count mean  ...   \n",
       "dataset                                                                 ...   \n",
       "I        11.0   5.0  3.316625   0.0   2.5   5.0   7.5  10.0  11.0  9.0  ...   \n",
       "II       11.0  16.0  3.316625  11.0  13.5  16.0  18.5  21.0  11.0  9.0  ...   \n",
       "III      11.0  27.0  3.316625  22.0  24.5  27.0  29.5  32.0  11.0  9.0  ...   \n",
       "IV       11.0  38.0  3.316625  33.0  35.5  38.0  40.5  43.0  11.0  9.0  ...   \n",
       "\n",
       "                        y                                                      \n",
       "          75%   max count      mean       std   min    25%   50%   75%    max  \n",
       "dataset                                                                        \n",
       "I        11.5  14.0  11.0  7.500909  2.031568  4.26  6.315  7.58  8.57  10.84  \n",
       "II       11.5  14.0  11.0  7.500909  2.031657  3.10  6.695  8.14  8.95   9.26  \n",
       "III      11.5  14.0  11.0  7.500000  2.030424  5.39  6.250  7.11  7.98  12.74  \n",
       "IV        8.0  19.0  11.0  7.500909  2.030579  5.25  6.170  7.04  8.19  12.50  \n",
       "\n",
       "[4 rows x 24 columns]"
      ]
     },
     "execution_count": 6,
     "metadata": {},
     "output_type": "execute_result"
    }
   ],
   "source": [
    "#get the stats broken into datasets\n",
    "df.groupby(\"dataset\").describe()"
   ]
  },
  {
   "cell_type": "code",
   "execution_count": 7,
   "id": "d6950f85",
   "metadata": {},
   "outputs": [],
   "source": [
    "#let's break this down a bit further using itertools\n",
    "#essentially, I want to see the median and mean of x and y only\n",
    "mycols = list(itertools.product(['x','y'], ['50%', 'mean', 'max', 'std']))"
   ]
  },
  {
   "cell_type": "code",
   "execution_count": 8,
   "id": "4994cc62",
   "metadata": {},
   "outputs": [
    {
     "data": {
      "text/html": [
       "<div>\n",
       "<style scoped>\n",
       "    .dataframe tbody tr th:only-of-type {\n",
       "        vertical-align: middle;\n",
       "    }\n",
       "\n",
       "    .dataframe tbody tr th {\n",
       "        vertical-align: top;\n",
       "    }\n",
       "\n",
       "    .dataframe thead tr th {\n",
       "        text-align: left;\n",
       "    }\n",
       "\n",
       "    .dataframe thead tr:last-of-type th {\n",
       "        text-align: right;\n",
       "    }\n",
       "</style>\n",
       "<table border=\"1\" class=\"dataframe\">\n",
       "  <thead>\n",
       "    <tr>\n",
       "      <th></th>\n",
       "      <th colspan=\"4\" halign=\"left\">x</th>\n",
       "      <th colspan=\"4\" halign=\"left\">y</th>\n",
       "    </tr>\n",
       "    <tr>\n",
       "      <th></th>\n",
       "      <th>50%</th>\n",
       "      <th>mean</th>\n",
       "      <th>max</th>\n",
       "      <th>std</th>\n",
       "      <th>50%</th>\n",
       "      <th>mean</th>\n",
       "      <th>max</th>\n",
       "      <th>std</th>\n",
       "    </tr>\n",
       "    <tr>\n",
       "      <th>dataset</th>\n",
       "      <th></th>\n",
       "      <th></th>\n",
       "      <th></th>\n",
       "      <th></th>\n",
       "      <th></th>\n",
       "      <th></th>\n",
       "      <th></th>\n",
       "      <th></th>\n",
       "    </tr>\n",
       "  </thead>\n",
       "  <tbody>\n",
       "    <tr>\n",
       "      <th>I</th>\n",
       "      <td>9.0</td>\n",
       "      <td>9.0</td>\n",
       "      <td>14.0</td>\n",
       "      <td>3.316625</td>\n",
       "      <td>7.58</td>\n",
       "      <td>7.500909</td>\n",
       "      <td>10.84</td>\n",
       "      <td>2.031568</td>\n",
       "    </tr>\n",
       "    <tr>\n",
       "      <th>II</th>\n",
       "      <td>9.0</td>\n",
       "      <td>9.0</td>\n",
       "      <td>14.0</td>\n",
       "      <td>3.316625</td>\n",
       "      <td>8.14</td>\n",
       "      <td>7.500909</td>\n",
       "      <td>9.26</td>\n",
       "      <td>2.031657</td>\n",
       "    </tr>\n",
       "    <tr>\n",
       "      <th>III</th>\n",
       "      <td>9.0</td>\n",
       "      <td>9.0</td>\n",
       "      <td>14.0</td>\n",
       "      <td>3.316625</td>\n",
       "      <td>7.11</td>\n",
       "      <td>7.500000</td>\n",
       "      <td>12.74</td>\n",
       "      <td>2.030424</td>\n",
       "    </tr>\n",
       "    <tr>\n",
       "      <th>IV</th>\n",
       "      <td>8.0</td>\n",
       "      <td>9.0</td>\n",
       "      <td>19.0</td>\n",
       "      <td>3.316625</td>\n",
       "      <td>7.04</td>\n",
       "      <td>7.500909</td>\n",
       "      <td>12.50</td>\n",
       "      <td>2.030579</td>\n",
       "    </tr>\n",
       "  </tbody>\n",
       "</table>\n",
       "</div>"
      ],
      "text/plain": [
       "           x                          y                           \n",
       "         50% mean   max       std   50%      mean    max       std\n",
       "dataset                                                           \n",
       "I        9.0  9.0  14.0  3.316625  7.58  7.500909  10.84  2.031568\n",
       "II       9.0  9.0  14.0  3.316625  8.14  7.500909   9.26  2.031657\n",
       "III      9.0  9.0  14.0  3.316625  7.11  7.500000  12.74  2.030424\n",
       "IV       8.0  9.0  19.0  3.316625  7.04  7.500909  12.50  2.030579"
      ]
     },
     "execution_count": 8,
     "metadata": {},
     "output_type": "execute_result"
    }
   ],
   "source": [
    "df.groupby(\"dataset\").describe()[mycols]"
   ]
  },
  {
   "cell_type": "markdown",
   "id": "67cc2940",
   "metadata": {},
   "source": [
    "<b>Statistically, it seems like those 4 datasets are the same or very similar. </b>\n",
    "<br>\n",
    "\n",
    "For X:\n",
    "\n",
    "- Mean datasets I, II, III and IV are all the same\n",
    "- Median of datasets I, II, and III are the same\n",
    "- All datasets have the same std\n",
    "- Datasets I, II, and III same max value\n",
    "<br>\n",
    "\n",
    "<b>but</b> there is more to the story if you visualize it!"
   ]
  },
  {
   "cell_type": "code",
   "execution_count": 9,
   "id": "fb71ed91",
   "metadata": {},
   "outputs": [
    {
     "data": {
      "text/plain": [
       "<seaborn.axisgrid.FacetGrid at 0x147fd8c40>"
      ]
     },
     "execution_count": 9,
     "metadata": {},
     "output_type": "execute_result"
    },
    {
     "data": {
      "image/png": "[encoded data removed]",
      "text/plain": [
       "<Figure size 2000x500 with 4 Axes>"
      ]
     },
     "metadata": {},
     "output_type": "display_data"
    }
   ],
   "source": [
    "sns.relplot(x='x', y='y', col='dataset', data=df)"
   ]
  },
  {
   "cell_type": "markdown",
   "id": "a9c64b47",
   "metadata": {},
   "source": [
    "<b>Once we visualize, we can see that the datasets are actually very different. Proving that visuals and stats should be used together to tell the entire story."
   ]
  },
  {
   "cell_type": "markdown",
   "id": "17a0546a",
   "metadata": {},
   "source": [
    "<hr style=\"border:1px solid black\">"
   ]
  },
  {
   "cell_type": "markdown",
   "id": "ebacc320",
   "metadata": {},
   "source": [
    "## Empirical Rule \n",
    "\n",
    "<i>aka: Three Sigma Rule and 68-95-99.7 Rule</i>"
   ]
  },
  {
   "cell_type": "markdown",
   "id": "4bc9864e",
   "metadata": {},
   "source": [
    "As is the case with most normal distribution (bell curves) the majority of the data falls in the middle of the curve. There are then tails to the bell curve that contain the remainder of the information. "
   ]
  },
  {
   "cell_type": "markdown",
   "id": "3ba55649",
   "metadata": {},
   "source": [
    "<b>This rule assumes that:</b>\n",
    "\n",
    "   - normal distribution has some qualities to find outliers\n",
    "   - Standard bell curve, to assess normality"
   ]
  },
  {
   "cell_type": "markdown",
   "id": "04030a25",
   "metadata": {},
   "source": [
    "<b>The rule asserts that:</b>\n",
    "\n",
    "   - 68% of the data falls within 1 standard deviation\n",
    "   - 95% of the data falls within 2 standard deviations\n",
    "   - 99.7% of the data falls within 3 standard deviations"
   ]
  },
  {
   "cell_type": "markdown",
   "id": "c68cd2a5",
   "metadata": {},
   "source": [
    "![](empirical_rule.png)"
   ]
  },
  {
   "cell_type": "markdown",
   "id": "02048382",
   "metadata": {},
   "source": [
    "<b>Additionally</b>:\n",
    "\n",
    "   - The rule is often used as a quick test of normality\n",
    "   - Is often erroneously applied to non-normally distributed data\n",
    "   - Can be an oversimplified approach"
   ]
  },
  {
   "cell_type": "markdown",
   "id": "e4712a9d",
   "metadata": {},
   "source": [
    "<b>Common Mistakes Made:</b>\n",
    "\n",
    "   - This rule drops everything outside of 2 standard deviations which highlights the danges of approaching outlier detection in this way."
   ]
  },
  {
   "cell_type": "markdown",
   "id": "2bc4e56d",
   "metadata": {},
   "source": [
    "Just as we would want to use descriptive stats <b>and</b> visualizations together to get the whole picture, we would likely want to use different algorithms to flag outliers. "
   ]
  },
  {
   "cell_type": "markdown",
   "id": "aebc1faf",
   "metadata": {},
   "source": [
    "<hr style=\"border:1px solid black\">"
   ]
  },
  {
   "cell_type": "markdown",
   "id": "ccc0dd88",
   "metadata": {},
   "source": [
    "## Using Z-Score for identifying outliers"
   ]
  },
  {
   "cell_type": "markdown",
   "id": "cd5fd45e",
   "metadata": {},
   "source": [
    "<b>Remember:</b>\n",
    "\n",
    "- ```np.random.normal``` generates numbers from a normal distribution with a specified mean and standard deviation\n",
    "\n",
    "- ```z-score```: a relationship between how far a point is away from the mean in a association with standard deviation as its denominator. It is a way to standardize data and compare a data point to the mean of the sample.\n",
    "    - Z = (value of sample - mean of sample)/ standard deviations of sample\n"
   ]
  },
  {
   "cell_type": "code",
   "execution_count": 10,
   "id": "7e7d0940",
   "metadata": {},
   "outputs": [
    {
     "data": {
      "text/plain": [
       "array([-2.57461620e+01,  9.03689159e+01,  2.65758781e+01,  5.56696321e+01,\n",
       "        7.00415813e+01, -1.69012812e+00,  5.09586404e+01,  6.71495627e+01,\n",
       "        4.88827799e+01,  6.90221840e+01,  9.20736900e+01, -1.56601054e+01,\n",
       "        5.65026462e+01, -3.28718023e+01,  4.76955799e+01,  8.54564090e+01,\n",
       "        5.83809048e+01,  4.31047039e+01,  2.46360829e+01,  9.76026504e+01,\n",
       "        1.02939584e+02,  4.30152831e+01,  6.65200808e+01, -7.36661545e+01,\n",
       "        7.88902218e+01,  3.11058583e+01,  8.77009329e+01,  5.82064881e+01,\n",
       "        1.48194272e+01,  8.31990653e+00,  8.48932745e+00,  7.03391035e+01,\n",
       "        4.08236800e+01,  9.23531349e+01,  1.46286389e+01,  2.43286247e+01,\n",
       "        5.13564834e+01,  7.51361042e+01, -7.02931454e+00,  6.83103349e+01,\n",
       "       -6.09640229e+00,  1.15117992e+02,  5.63217846e+01,  6.54613769e+01,\n",
       "        7.01573592e+01,  4.20311241e+01,  4.14189771e+01,  7.86584600e+01,\n",
       "        6.06118432e+01,  9.00713671e+01,  6.24149325e+01,  1.06680625e+02,\n",
       "        8.06286879e+00,  4.35063988e+01,  4.47509412e+01,  3.23447532e+01,\n",
       "        2.39808544e+01,  5.73581393e+01, -2.33353850e+01,  1.26793083e+02,\n",
       "        1.06595924e+02,  6.63153179e+01,  7.03733305e+01,  9.79404977e+01,\n",
       "        3.72613901e+01,  1.10562821e+02, -1.35696457e+01,  9.05906599e+01,\n",
       "        1.54600613e+01,  3.75401325e+01,  5.79978761e+01,  3.79792655e+01,\n",
       "        6.51700315e+01,  5.00344222e+00,  4.52188990e+01,  4.19052206e+01,\n",
       "        1.43367189e+01,  1.38208156e+02,  9.04679695e+01,  6.57399751e+01,\n",
       "        1.19567262e+02,  5.41020267e+01,  8.96498350e+01, -9.85171839e+00,\n",
       "        4.07812220e+01,  4.99624487e+01,  3.52581640e+01, -1.21098106e+01,\n",
       "        7.75694193e+01,  3.53279283e+01,  1.05362226e+01,  1.76019902e+01,\n",
       "        3.58136995e+01, -3.82489094e+01,  7.50112106e+01,  8.13375927e+01,\n",
       "        1.05010839e+02,  6.04418859e+01,  4.26526654e+01,  5.60676035e+01,\n",
       "        3.53884166e+01,  5.18059263e+01,  6.87184014e+01,  1.56778866e+01,\n",
       "        1.00038438e+02,  7.09967888e+01,  7.20948141e+01,  7.52591179e+01,\n",
       "        8.00469489e+01,  4.58299074e+01, -2.02378233e+01, -5.37224606e+01,\n",
       "        8.71662132e+01,  6.24805688e+01,  5.32464689e+01, -1.47830164e+00,\n",
       "        4.93991501e+01,  4.14979483e+01,  4.44915773e+01,  1.05934946e+02,\n",
       "        7.43823233e+01,  4.86466534e+01, -2.38396591e+01,  8.30098939e+01,\n",
       "        2.25844045e+01,  5.70522010e+01,  1.82192117e+01,  2.65728668e+01,\n",
       "        9.63841416e+01,  1.26954955e+00,  2.92851644e+01, -2.56149004e+01,\n",
       "        1.48672365e+02,  4.57638218e+01,  9.43737354e+01, -3.96219490e+01,\n",
       "        1.06235593e+02,  3.66495106e+01,  4.81013722e+01,  9.04862664e+01,\n",
       "       -1.55720929e+01,  4.95493367e+01,  7.19487448e+01,  6.29248507e+01,\n",
       "        4.89759882e+01,  9.28460716e+01,  8.70742499e+01,  5.74749556e+01,\n",
       "        2.16633364e+01,  3.22970057e+01,  3.41478985e+01,  3.78027126e+01,\n",
       "        1.25469660e+02,  2.17885287e+01,  3.11179843e+01, -1.39999173e+01,\n",
       "        4.52354495e+00,  2.17481431e+01,  6.17560798e+01,  8.25395119e+01,\n",
       "        2.96255099e+01,  7.03823305e+00,  7.82742643e+01,  7.09640274e+01,\n",
       "        4.67988365e+01,  6.92742607e+01,  3.54212690e+01,  6.31792882e+01,\n",
       "        8.32984853e+01,  7.45011507e+01, -2.50657738e+01,  4.36857001e+01,\n",
       "        2.04120896e+01,  1.17212977e+02,  8.09250004e+01,  4.19148671e+01,\n",
       "        4.91000342e+01,  7.67998915e+01,  3.72599966e+01,  1.80112229e+01,\n",
       "        6.49117302e+01,  7.04946508e+01,  5.26838163e+01,  1.16664501e+02,\n",
       "        4.95030313e+00,  2.52907607e+01,  3.60195195e+01,  6.81646680e+01,\n",
       "        4.90873662e+01,  1.12038389e+02,  8.30552303e+00,  1.20718098e+01,\n",
       "        6.28562576e+01,  5.53220787e+01,  2.81611598e+01,  6.53661683e+01,\n",
       "        3.47451363e+01,  2.07091872e+01, -1.23193876e+01, -9.97856665e+00,\n",
       "        4.46813546e+01,  3.46964334e+01,  7.63011054e+01,  6.74986261e+01,\n",
       "        6.21208352e+01, -1.76687690e+01,  1.32501639e+02,  1.50937894e+01,\n",
       "        3.83044380e+01,  7.26574462e+00,  7.24745972e+01,  8.65271737e+01,\n",
       "        8.12646152e+00,  1.30088161e+02,  1.45893159e+01,  1.80467619e+01,\n",
       "        6.36165007e+01,  4.58317802e+01,  4.30467597e+01, -6.27811638e+00,\n",
       "        1.08491856e+02,  6.04154380e+01,  4.14398297e+01,  5.87430318e+01,\n",
       "        7.15228785e+01,  1.13715249e+02,  7.60252960e+01,  6.73392044e+01,\n",
       "       -2.14148756e+01,  5.27348775e+01,  3.80176527e+01,  5.23313219e+01,\n",
       "        4.78661277e+01,  6.44328781e+01,  2.30151069e+01,  4.47839882e-02,\n",
       "        9.49328985e+01,  3.35121784e+01,  1.14353813e+02,  4.12791320e+01,\n",
       "        5.94370329e+01,  5.30570337e+01,  4.65215840e+01,  1.00099779e+02,\n",
       "        6.10041218e+01,  8.91010285e+01,  1.81471539e+01,  8.77835855e+01,\n",
       "        9.09172554e+01,  1.64968477e+01,  1.62272497e+02,  3.81552591e+01,\n",
       "        4.57035986e+01,  4.49078672e+01,  7.07360351e+01,  5.47482354e+01,\n",
       "        7.92980452e+01,  5.92605842e+01,  8.89603621e+01,  9.77103396e+01,\n",
       "        3.08879380e+01, -1.19482645e+01,  1.33739079e+01,  1.28393478e+01,\n",
       "        2.72591377e+01,  2.45379104e+00,  4.17796083e+01,  7.22613993e+01,\n",
       "        3.36017045e+01,  1.12261132e+02,  5.60621022e+01,  1.00151206e+02,\n",
       "        6.86140159e+01,  3.81625326e+00,  6.35945361e+01,  3.98253728e+01,\n",
       "        1.58745630e+02,  1.29940148e+00,  2.08191573e+01,  5.72966649e+01,\n",
       "        2.88673778e+01,  8.32296210e+01,  5.42219443e+01,  3.29682203e+01,\n",
       "       -1.62877109e+01,  7.40569338e+01,  7.16648875e+01,  1.11475754e+01,\n",
       "        6.02713079e+01,  6.31572043e+01,  8.35559381e+01,  1.44724668e+02,\n",
       "        6.09282540e+01,  1.18695787e+02,  4.36856227e+01,  1.37170431e+01,\n",
       "        3.14974322e+01,  5.76752488e+01, -3.93580886e+01,  3.53843686e+01,\n",
       "        8.67371420e+00,  3.51817274e+01,  3.87470643e+01, -1.35793884e+01,\n",
       "        5.70735107e+01,  6.76735013e+01,  1.16818009e+02,  6.50809093e+01,\n",
       "        2.93030420e+01, -3.08348948e+00, -2.02541078e+00,  9.11077822e+01,\n",
       "        5.97197596e+01,  2.97712338e+01,  4.52757822e+01,  4.08829594e+01,\n",
       "        4.99776055e+01, -2.28817722e+01, -5.48617768e+01,  6.88246713e+01,\n",
       "        8.51833460e+01,  6.05871507e+01,  1.23881517e+02,  4.97098956e+01,\n",
       "        1.07378657e+02,  4.42815984e+01, -2.90771242e+01,  8.64887529e+01,\n",
       "       -1.42450063e+01,  2.69360361e+01, -1.30335695e+01,  8.74330089e+01,\n",
       "        4.15736110e+01,  2.47138017e+01,  1.78263455e+01,  1.11631059e+02,\n",
       "       -2.62613345e+01,  3.66151524e+01,  4.27557890e+01,  4.80227198e+01,\n",
       "        4.90086663e+01,  5.94549242e+01, -7.23560247e+00,  2.48912810e+01,\n",
       "        1.11989176e+00,  6.94166054e+01,  1.12749458e+02,  3.82608917e+00,\n",
       "       -1.07923945e+01,  4.25507240e+01,  5.19948415e+01,  2.30719263e+01,\n",
       "        5.99640629e+01,  6.25474665e+01,  1.32409112e+02,  7.67920204e+01,\n",
       "        6.94651849e+01,  7.96993840e+00,  3.23533371e+01,  8.64110027e+01,\n",
       "        2.80180057e+01,  5.77593948e+01,  9.90212051e+01, -6.90712324e+00,\n",
       "        9.68741561e+01, -1.17443647e+01,  1.22862399e+01,  5.62319860e+01,\n",
       "        3.17758342e+01,  2.05672767e+01,  6.02054622e+01,  9.65189513e+01,\n",
       "        6.36636267e+01, -4.96664550e+00, -3.28376886e+00,  2.54033241e+01,\n",
       "        3.12226929e+01,  1.14656225e+02,  7.30459697e+01,  8.41288065e+01,\n",
       "        9.74911660e+01,  3.67256976e+01,  2.50701125e+01, -1.95328281e+00,\n",
       "        2.00955716e+00,  7.51693654e+01,  4.29660176e-01,  6.15419188e+01,\n",
       "        8.31375834e+01,  2.07781133e+01,  9.69126841e+01,  2.10612575e+01,\n",
       "        2.05656371e+01, -8.15106850e+01,  3.99546744e+01,  6.93604724e+01,\n",
       "        1.09984259e+01,  1.39579460e+02,  8.99300258e+01,  9.19754699e-01,\n",
       "        1.10605101e+02,  3.82025211e+01,  6.24589928e+01,  1.89823799e+01,\n",
       "        2.55698426e+01,  1.93085330e+01,  5.30489861e+01,  1.03125913e+01,\n",
       "        6.18030456e+01,  5.65142702e+01,  2.99559377e+01,  7.33645934e+01,\n",
       "        6.53433518e+01,  8.77950583e+01,  3.65838776e+01,  7.29311526e+01,\n",
       "       -2.60482365e+01,  5.33929026e+01,  4.20968242e+01,  1.14149979e+02,\n",
       "        4.21851984e+01,  9.45800736e+01,  5.47386194e+01, -2.60662668e+01,\n",
       "        7.75753222e+01,  5.94034108e+01, -2.10068855e+01, -9.95420879e+00,\n",
       "        5.07269681e+01,  5.06594227e+01,  1.18644485e+02,  6.73336986e+01,\n",
       "        6.30193436e+01, -2.25555216e+01,  9.37324174e+01,  5.94460001e+01,\n",
       "        7.13707160e+01,  5.31482983e+01,  2.26691335e+01,  5.91219407e+01,\n",
       "        4.27864883e+01,  5.85944132e+00,  6.25595594e+00, -7.11135118e+00,\n",
       "        7.41839982e+01, -4.84438474e+00,  3.52119723e+01,  3.51834314e+01,\n",
       "       -2.30890459e+01,  3.55337330e+01,  7.73498209e+01, -2.17613923e+01,\n",
       "        8.87696258e+01,  1.08242780e+02,  3.66989415e+01,  1.29797251e+02,\n",
       "       -3.81555863e+01,  6.11520450e+01,  7.65337331e+01,  1.02232908e+02,\n",
       "        4.62367347e+01, -1.91864351e+01,  6.97626854e+01,  4.34099028e+01,\n",
       "        8.72724408e+01,  6.82299034e+01,  2.83215943e+01,  1.33414960e+01,\n",
       "        2.95458129e+01,  2.72576725e+01,  5.87402747e+01,  8.50704321e+01,\n",
       "        2.28686267e+01,  2.79955318e+01,  5.12384027e+01,  7.73214523e+01,\n",
       "        1.12278075e+02,  4.85656539e+01,  5.34855074e+01,  5.91107383e+01,\n",
       "        8.97052942e+00,  1.38697279e+01,  6.89342142e+01,  6.91034156e+01,\n",
       "        1.06929965e+01,  9.53342296e+01,  6.46608458e+01, -5.12409176e-01,\n",
       "        7.08292385e+01, -2.53161716e+01,  7.53612887e+01,  6.35142108e+01,\n",
       "        1.01691052e+02,  3.44847585e+01,  2.19103820e+01,  2.04019710e+01,\n",
       "        4.71297605e+01,  8.23869285e+01,  5.23356292e+00,  9.32615226e+01,\n",
       "        1.10517254e+02,  2.75943084e+01,  1.01345600e+01,  1.29855816e+01,\n",
       "        8.49982845e+01,  5.03528203e+01,  3.83288356e+01,  4.70449129e+01,\n",
       "        5.11648896e+01,  4.27359373e+01,  9.06719285e+01,  6.34995735e+01,\n",
       "        5.38809931e+01,  7.84249249e+01, -8.23409502e+00,  1.10534294e+02,\n",
       "        5.30692696e+01,  2.05478316e+01,  1.12967989e+02,  3.74526038e+01,\n",
       "        5.81846680e+01,  5.07455310e+01,  3.10565803e+01,  1.16990614e+02,\n",
       "        7.45277309e+01,  8.43425704e+01,  7.25227186e+01,  1.25500280e+02,\n",
       "        3.27769993e+01,  8.90678784e+01,  1.46991616e+01,  5.98663098e+01,\n",
       "        1.09055833e+02, -5.12434267e+00,  9.94219088e+01,  7.85647167e+01,\n",
       "        6.27320768e+01,  6.74678628e+01,  1.48040022e+01, -6.35689426e+00,\n",
       "        1.27506929e+02, -2.84195662e+01,  8.95379654e+00,  5.24871194e+01,\n",
       "        2.40062373e+01,  7.24730724e+01,  5.87326752e+01,  7.34678175e+01,\n",
       "        4.09387251e+01,  8.89440256e+01,  8.17730236e+01,  2.26838693e+01,\n",
       "        3.46144716e+01, -3.57204462e+00,  6.36109452e+01,  6.92979443e+01,\n",
       "        1.43479876e+00,  6.92087709e+01,  3.69411875e+01,  1.25974978e+01,\n",
       "        4.20356139e+01,  3.07201388e+01,  6.16228890e+01,  1.15256023e+02,\n",
       "        5.91303267e+01,  1.14160864e+02,  6.68259443e+01, -3.04037265e+00,\n",
       "        5.26967691e+01,  3.84027556e+01, -1.48332029e+01,  3.96776953e+01,\n",
       "        1.00679568e+02, -2.68477759e+00,  8.42695067e+01,  9.41678575e+01,\n",
       "        9.65828170e+01,  7.93918991e+01,  7.94889020e+01,  3.08889601e+01,\n",
       "        6.30307361e+01,  1.44486212e+02,  1.47886561e+02,  6.93221337e+01,\n",
       "       -2.76892562e+00,  2.43426023e+00, -2.70343621e+01,  1.70629459e+01,\n",
       "        3.63583095e+01,  6.07616230e+01,  4.02372407e+01,  2.54032548e+01,\n",
       "        8.06728918e+01,  7.79092244e+01,  3.36228369e+01, -1.22246691e+01,\n",
       "        1.53869051e+01,  7.81682328e+01,  7.39393263e+01,  1.98731612e+01,\n",
       "        1.11487412e+02,  2.06233382e+01,  2.36288328e+01, -1.52770317e+01,\n",
       "        5.61128149e+01,  7.78732114e+01,  8.76593212e+01, -7.07831271e+00,\n",
       "        2.07386790e+01,  7.27786772e+01,  2.31941196e+01,  2.14409690e+01,\n",
       "       -2.18373790e+01,  6.32548492e+01,  6.01188232e+00,  7.58638973e+01,\n",
       "       -4.08712054e+00,  2.75284984e+01,  6.10364926e+01,  1.11869765e+02,\n",
       "       -5.93395942e+01,  5.71144414e+01, -2.00521445e+01,  1.12747015e+02,\n",
       "       -5.35370924e+00, -2.40079368e+01,  1.99031572e+01,  6.39001489e+01,\n",
       "        3.06499712e+01,  5.35891084e+01, -6.85861738e+01,  1.89617628e+01,\n",
       "        5.77336168e+01,  2.82011146e+00, -1.19803295e+01,  9.94118600e+01,\n",
       "        3.68563455e+01,  8.10026772e+01, -3.07942067e+01,  1.08525847e+02,\n",
       "        1.01430164e+01, -1.66120568e+00, -5.90636788e-01,  9.44095065e+01,\n",
       "        8.99481036e+01, -1.05084551e+01,  1.69470348e+01,  8.33856247e+01,\n",
       "        6.18697856e+01,  8.54442332e+01,  7.71778634e+01,  1.27390473e+02,\n",
       "       -5.06714538e-01,  5.68675916e+01,  3.07166529e+01,  2.69531506e+01,\n",
       "        4.40866160e+01,  3.09457209e+01, -9.32851654e+00,  8.76690417e+00,\n",
       "        1.08742866e+02,  6.95906932e+01,  5.49759368e+01, -1.18900291e+01,\n",
       "       -2.06482900e+01, -1.30114067e+01,  4.68887268e+01,  6.81221635e+01,\n",
       "       -5.70498293e+00,  7.72934941e+01,  5.53059059e+01,  9.08421314e+01,\n",
       "        1.33779229e+02,  8.73733787e+01,  4.36470605e+01,  1.13381602e+02,\n",
       "        5.45483639e+01,  7.58357853e+01,  1.45007016e+01,  4.98430235e+01,\n",
       "        3.66689625e+01, -5.68081411e+00,  3.79664741e+01,  5.53254562e+00,\n",
       "        1.08285735e+02,  5.76070381e+01,  7.09931999e+01,  8.60213192e-01,\n",
       "        6.25599903e+01, -1.73761543e+01,  5.45782672e+01,  2.85788805e+01,\n",
       "        5.14446042e+01,  2.09174039e+01,  1.75898917e+02,  3.31203355e+01,\n",
       "        4.39992751e+01,  1.02401690e+02,  6.56684766e+01,  3.62329130e+01,\n",
       "        7.64741041e+01,  1.13037056e+02,  8.42042663e+01,  1.02731648e+02,\n",
       "        6.54014652e+01,  2.45441593e+01, -1.16946201e+01,  9.98096971e+01,\n",
       "        1.60082555e+01,  5.18324691e+01, -3.50902825e+01,  2.86840507e+01,\n",
       "       -1.06838852e+01,  4.31245457e+01,  1.01003841e+02,  9.65118829e+01,\n",
       "        6.70669202e+01,  2.98638719e+01,  1.28933151e+02,  4.50550692e+00,\n",
       "        6.91966319e+01, -9.37707999e+00,  4.11585363e+01,  9.51088510e-01,\n",
       "        3.98481177e+01,  5.49686198e+01,  2.37927442e+01,  4.39949208e+01,\n",
       "        5.80869065e+01,  7.47801250e+01,  8.98305131e+01,  1.18249900e+02,\n",
       "        1.78250144e+01,  2.47822244e+01,  7.42695311e+01,  1.95909767e+01,\n",
       "        3.74128992e+01,  8.95190869e+00,  1.16798248e+02,  6.94220304e+01,\n",
       "        6.14111686e+01,  2.45896064e+01,  3.67708448e+01, -2.64159186e+01,\n",
       "        8.45663793e+01,  6.22850381e+01,  2.40299561e+00,  8.70997000e+01,\n",
       "        5.03283987e+01,  6.21919181e+01, -1.19349921e+01,  7.80485869e+01,\n",
       "        8.05338828e+01,  1.68387632e+00,  5.91773590e+01,  7.45385423e+01,\n",
       "       -1.51091148e+01,  1.01447179e+01,  1.66168615e+01,  1.09420442e+02,\n",
       "        8.93553704e+01,  6.95148296e+01,  1.59907640e+02,  7.71358440e+01,\n",
       "        9.29525529e+01,  1.22385292e+01,  5.60586823e+01,  6.25725478e+01,\n",
       "        3.14109879e+01,  3.03626724e+01,  1.16973377e+02,  7.52412246e+01,\n",
       "       -3.86085466e+01,  7.79576722e+01,  3.67969172e+01,  4.30393569e+01,\n",
       "        4.83693633e+00,  7.05614638e+01,  3.10153654e+01,  1.11330469e+02,\n",
       "        6.24820134e+01, -7.31764848e+00,  1.06346657e+02,  1.05405410e+02,\n",
       "        6.42246573e+01,  4.66853582e+01,  1.04965469e+02,  6.42791735e+01,\n",
       "        1.32656570e+02,  4.60222620e+01,  3.36720324e+01,  7.23784093e+01,\n",
       "        2.38592298e+01,  3.20104158e+01,  8.98546478e+01,  8.85566283e+01,\n",
       "        7.58019418e+01,  4.24986074e+01,  8.62648000e+01,  7.75735842e+01,\n",
       "        5.03572656e+01,  1.42362745e+02,  7.41352643e+01,  6.60277511e+01,\n",
       "        4.71386613e+00,  1.07059987e+02,  9.28877291e+01,  1.82510170e+02,\n",
       "        2.75261339e+01,  1.25294744e+02,  1.16086213e+02,  2.35338008e+01,\n",
       "        8.78668798e+01,  3.78304829e+01,  3.84599620e+01, -2.46244636e+00,\n",
       "       -2.73192075e+00,  1.14900921e+02,  5.15772331e+01,  1.19126775e+02,\n",
       "        1.78588662e+01,  8.14930358e+01,  4.16125958e+01,  5.10585413e+01,\n",
       "        1.14991736e+02,  4.83191446e+01, -3.02068059e+01,  1.04438239e+02,\n",
       "        1.35117041e+02,  9.02771090e+00,  1.31626208e+00,  2.87215393e+01,\n",
       "        9.77758573e+01,  2.10635801e+01,  7.32651276e+01,  1.65396537e+01,\n",
       "        7.70620141e+01,  4.52074851e+01,  1.94207535e+01,  8.98821275e+01,\n",
       "        5.91439521e+01,  3.70531791e+01,  1.04915521e+02,  7.71887627e+01,\n",
       "        5.52364220e+01,  7.64241882e+01,  5.06914761e+01,  7.87706047e+00,\n",
       "        8.22754004e+01,  1.21174734e+02, -3.05420860e+01,  1.22428513e+02,\n",
       "        6.45003932e+01,  7.35156409e+00,  6.91553669e+01,  3.48629385e+01,\n",
       "        1.81690306e+01,  4.89920489e+01,  1.40316006e+01,  4.51294831e+01,\n",
       "        4.98124458e+01,  1.23702839e+02,  6.60365727e+01,  7.09247896e+01,\n",
       "        1.17010126e+02,  1.82498161e+00,  5.58044915e+01,  8.38542102e+00,\n",
       "        7.60779027e+01,  3.84181861e+01, -4.79428354e+01,  1.16740713e+02,\n",
       "        5.27881563e+00,  7.87080502e+01, -1.27346400e+01,  5.40122197e+01,\n",
       "        4.23780233e+01,  4.41664617e+01,  6.14281274e+01,  3.75733595e+01,\n",
       "       -3.27523650e+01,  5.19071676e+01,  1.11544241e+02,  9.98146046e+01,\n",
       "        3.40663167e+01, -1.50354552e+01,  9.11379105e+01,  5.09332087e+01,\n",
       "       -4.60193944e+01,  9.87975976e+01,  9.48902254e+01,  4.03221430e+01,\n",
       "        8.19693551e+01,  4.83858654e+01,  4.23551888e+01,  5.76270340e+01,\n",
       "        2.14865447e+01,  3.43569087e+01,  5.27056868e+01,  7.47390123e+01,\n",
       "        5.66455350e+01,  1.19716552e+01,  4.22710603e+01,  1.04712703e+02,\n",
       "        3.05228489e+01,  7.51062062e+01,  5.82070575e+01,  2.55160311e+01,\n",
       "        4.08583244e+01,  5.56720364e+01,  4.46351485e+01,  8.18781560e+01,\n",
       "        7.42736421e+01,  4.10995846e+01,  5.07385318e+01,  3.52062821e+01,\n",
       "        5.13137326e+01,  3.23798807e+00,  1.38695013e+01,  3.05656811e+01,\n",
       "        3.25200374e+01,  4.09807526e+00,  4.40383076e+01,  3.95747072e+01,\n",
       "        5.68240589e+01,  1.57096112e+00,  8.52845022e+01,  4.28801124e+01,\n",
       "        4.23345640e+01,  3.28360402e+01,  5.53973464e+01,  5.07421867e+01,\n",
       "        1.03940590e+02,  6.98431506e+01,  7.06743000e+01,  7.84048331e+01,\n",
       "        1.23753440e+01,  3.31124643e+01,  9.05511417e+01,  6.46913651e+01,\n",
       "        1.89777251e+01, -2.76926966e+01,  2.98499208e+01,  4.40544468e+01,\n",
       "        2.93763661e+01,  3.44704590e+01,  5.89548512e+01,  6.53772259e+01,\n",
       "       -1.04684898e+01,  1.15019090e+02,  6.16670194e+01,  7.29035582e+01,\n",
       "        1.06533958e+02, -3.99183877e+01, -7.12820129e+00,  8.20837101e+01,\n",
       "        8.93712083e+01,  4.03298837e+01,  5.30585516e+01,  6.99221823e+01,\n",
       "       -2.09713702e+01,  8.21123270e+01,  1.10659691e+02,  6.18968641e+01,\n",
       "        4.61949453e+00,  4.50425776e+01,  7.76672375e+01,  2.08566570e+01,\n",
       "       -3.00810642e-01,  2.93313971e+01, -2.09784443e+01,  8.15209361e+01,\n",
       "        1.09159136e+02,  1.07748200e+02,  1.66771717e+01,  6.95186706e+01,\n",
       "        9.82664476e+00,  1.49682524e+01,  3.06028208e+01,  1.00884683e+02,\n",
       "        6.82249773e+00,  1.03551177e+02,  4.40266936e+01,  4.99095341e+01,\n",
       "        1.28379094e+02, -8.10946064e+01,  2.08713018e+01,  8.87374322e+01,\n",
       "        1.12578476e+02,  1.41454185e+02,  2.24474888e+01,  2.09886168e+01,\n",
       "        2.27634408e+01,  1.95457104e+01,  6.61336569e+01,  2.71887627e+01,\n",
       "        5.88743293e+01,  6.28073086e+01, -2.03917709e+01,  1.22053005e+02])"
      ]
     },
     "execution_count": 10,
     "metadata": {},
     "output_type": "execute_result"
    }
   ],
   "source": [
    "#create an array of random numbers with normal distribution \n",
    "x = np.random.normal(50, 40, size=1000)\n",
    "x"
   ]
  },
  {
   "cell_type": "code",
   "execution_count": 11,
   "id": "b449b381",
   "metadata": {},
   "outputs": [
    {
     "data": {
      "text/plain": [
       "0     -1.849898\n",
       "1      1.008896\n",
       "2     -0.561711\n",
       "3      0.154587\n",
       "4      0.508430\n",
       "         ...   \n",
       "995   -0.546622\n",
       "996    0.233488\n",
       "997    0.330319\n",
       "998   -1.718071\n",
       "999    1.788969\n",
       "Length: 1000, dtype: float64"
      ]
     },
     "execution_count": 11,
     "metadata": {},
     "output_type": "execute_result"
    }
   ],
   "source": [
    "# Calculate the z-score for each item in the array\n",
    "zscores = pd.Series((x - x.mean()) / x.std())\n",
    "#take a look\n",
    "zscores"
   ]
  },
  {
   "cell_type": "code",
   "execution_count": 12,
   "id": "922e572b",
   "metadata": {},
   "outputs": [
    {
     "data": {
      "text/plain": [
       "array([-32.87180234, -73.66615448, 138.20815593, -38.2489094 ,\n",
       "       -53.72246062, 148.67236542, -39.62194904, 132.50163891,\n",
       "       162.27249667, 158.74562973, 144.72466782, -39.35808859,\n",
       "       -54.86177684, 132.40911152, -81.51068501, 139.57946032,\n",
       "       -38.15558626, 144.48621174, 147.8865612 , -59.33959421,\n",
       "       -68.58617377, 133.77922936, 175.89891695, -35.0902825 ,\n",
       "       159.90764049, -38.6085466 , 132.65657044, 142.36274454,\n",
       "       182.51016972, 135.11704138, -47.94283539, -32.75236497,\n",
       "       -46.01939437, -39.9183877 , -81.09460644, 141.45418524])"
      ]
     },
     "execution_count": 12,
     "metadata": {},
     "output_type": "execute_result"
    }
   ],
   "source": [
    "# Finds all of the observations with two standard deviations or more.\n",
    "x[zscores.abs() >= 2]"
   ]
  },
  {
   "cell_type": "code",
   "execution_count": 13,
   "id": "90a6f702",
   "metadata": {},
   "outputs": [
    {
     "data": {
      "text/plain": [
       "36"
      ]
     },
     "execution_count": 13,
     "metadata": {},
     "output_type": "execute_result"
    }
   ],
   "source": [
    "#how many observations is this \n",
    "len(x[zscores.abs() >= 2])"
   ]
  },
  {
   "cell_type": "code",
   "execution_count": 14,
   "id": "11b3afd7",
   "metadata": {},
   "outputs": [
    {
     "data": {
      "text/plain": [
       "array([-73.66615448, -81.51068501, 175.89891695, 182.51016972,\n",
       "       -81.09460644])"
      ]
     },
     "execution_count": 14,
     "metadata": {},
     "output_type": "execute_result"
    }
   ],
   "source": [
    "# Finds all of the observations with three standard deviations or more\n",
    "x[zscores.abs() >= 3]"
   ]
  },
  {
   "cell_type": "markdown",
   "id": "00ba9b93",
   "metadata": {},
   "source": [
    "<b>Note:</b>\n",
    "\n",
    "- As we can see above we went from 43 observations that were 2 standard deviations of more away to <b>one</b> observation"
   ]
  },
  {
   "cell_type": "markdown",
   "id": "5813927b",
   "metadata": {},
   "source": [
    "<hr style=\"border:1px solid black\">"
   ]
  },
  {
   "cell_type": "markdown",
   "id": "2f77604c",
   "metadata": {},
   "source": [
    "## \"Black Swan\""
   ]
  },
  {
   "cell_type": "markdown",
   "id": "6da8c13f",
   "metadata": {},
   "source": [
    "Where did the name come from?\n",
    "- Europeans originally thought that swans were only white. So as far as they knew, black swans did not exist. That is, until they traveled to colonize Australia... Thus \"black swam\" became the term to define someone super unlikely.\n",
    "\n",
    "This refers to :\n",
    "- very strong anomaly- in the field of novalty\n",
    "- extremely low frequency events that have an exponentially powerful impact\n",
    "- far outside the typical probabilty\n",
    "- very far end of the tail of distribution (bell curve)\n",
    "\n",
    "Black Swan Example:\n",
    "- 1987 stock exchange crash\n",
    "- Dow Jones fell 508 points in a single day\n",
    "- This accounted for 23% of value of Dow Jones\n",
    "- This event was found to be <b><u>25</b></u> standard deviations away from the mean.\n",
    "\n",
    "<i>Just because something is exceptionally improbable, doesn't mean it <b>can't</b> happen. If a black swan event does occur, it has the potential to change all of your data from that point on.\n"
   ]
  },
  {
   "cell_type": "markdown",
   "id": "0ada786a",
   "metadata": {},
   "source": [
    "<hr style=\"border:1px solid black\">"
   ]
  },
  {
   "cell_type": "markdown",
   "id": "67039c53",
   "metadata": {},
   "source": [
    "# Code it out\n",
    "Let's bring back the ```swiss``` dataset!"
   ]
  },
  {
   "cell_type": "code",
   "execution_count": 15,
   "id": "365e97f2",
   "metadata": {},
   "outputs": [],
   "source": [
    "#import from pydataset\n",
    "swiss = data('swiss')"
   ]
  },
  {
   "cell_type": "code",
   "execution_count": 16,
   "id": "f73ced8b",
   "metadata": {},
   "outputs": [
    {
     "name": "stdout",
     "output_type": "stream",
     "text": [
      "<class 'pandas.core.frame.DataFrame'>\n",
      "Index: 47 entries, Courtelary to Rive Gauche\n",
      "Data columns (total 6 columns):\n",
      " #   Column            Non-Null Count  Dtype  \n",
      "---  ------            --------------  -----  \n",
      " 0   Fertility         47 non-null     float64\n",
      " 1   Agriculture       47 non-null     float64\n",
      " 2   Examination       47 non-null     int64  \n",
      " 3   Education         47 non-null     int64  \n",
      " 4   Catholic          47 non-null     float64\n",
      " 5   Infant.Mortality  47 non-null     float64\n",
      "dtypes: float64(4), int64(2)\n",
      "memory usage: 2.6+ KB\n"
     ]
    }
   ],
   "source": [
    "#take a look\n",
    "swiss.info()"
   ]
  },
  {
   "cell_type": "code",
   "execution_count": 17,
   "id": "581a5261",
   "metadata": {},
   "outputs": [
    {
     "data": {
      "text/html": [
       "<div>\n",
       "<style scoped>\n",
       "    .dataframe tbody tr th:only-of-type {\n",
       "        vertical-align: middle;\n",
       "    }\n",
       "\n",
       "    .dataframe tbody tr th {\n",
       "        vertical-align: top;\n",
       "    }\n",
       "\n",
       "    .dataframe thead th {\n",
       "        text-align: right;\n",
       "    }\n",
       "</style>\n",
       "<table border=\"1\" class=\"dataframe\">\n",
       "  <thead>\n",
       "    <tr style=\"text-align: right;\">\n",
       "      <th></th>\n",
       "      <th>Fertility</th>\n",
       "      <th>Agriculture</th>\n",
       "      <th>Examination</th>\n",
       "      <th>Education</th>\n",
       "      <th>Catholic</th>\n",
       "      <th>Infant.Mortality</th>\n",
       "    </tr>\n",
       "  </thead>\n",
       "  <tbody>\n",
       "    <tr>\n",
       "      <th>count</th>\n",
       "      <td>47.000000</td>\n",
       "      <td>47.000000</td>\n",
       "      <td>47.000000</td>\n",
       "      <td>47.000000</td>\n",
       "      <td>47.00000</td>\n",
       "      <td>47.000000</td>\n",
       "    </tr>\n",
       "    <tr>\n",
       "      <th>mean</th>\n",
       "      <td>70.142553</td>\n",
       "      <td>50.659574</td>\n",
       "      <td>16.489362</td>\n",
       "      <td>10.978723</td>\n",
       "      <td>41.14383</td>\n",
       "      <td>19.942553</td>\n",
       "    </tr>\n",
       "    <tr>\n",
       "      <th>std</th>\n",
       "      <td>12.491697</td>\n",
       "      <td>22.711218</td>\n",
       "      <td>7.977883</td>\n",
       "      <td>9.615407</td>\n",
       "      <td>41.70485</td>\n",
       "      <td>2.912697</td>\n",
       "    </tr>\n",
       "    <tr>\n",
       "      <th>min</th>\n",
       "      <td>35.000000</td>\n",
       "      <td>1.200000</td>\n",
       "      <td>3.000000</td>\n",
       "      <td>1.000000</td>\n",
       "      <td>2.15000</td>\n",
       "      <td>10.800000</td>\n",
       "    </tr>\n",
       "    <tr>\n",
       "      <th>25%</th>\n",
       "      <td>64.700000</td>\n",
       "      <td>35.900000</td>\n",
       "      <td>12.000000</td>\n",
       "      <td>6.000000</td>\n",
       "      <td>5.19500</td>\n",
       "      <td>18.150000</td>\n",
       "    </tr>\n",
       "    <tr>\n",
       "      <th>50%</th>\n",
       "      <td>70.400000</td>\n",
       "      <td>54.100000</td>\n",
       "      <td>16.000000</td>\n",
       "      <td>8.000000</td>\n",
       "      <td>15.14000</td>\n",
       "      <td>20.000000</td>\n",
       "    </tr>\n",
       "    <tr>\n",
       "      <th>75%</th>\n",
       "      <td>78.450000</td>\n",
       "      <td>67.650000</td>\n",
       "      <td>22.000000</td>\n",
       "      <td>12.000000</td>\n",
       "      <td>93.12500</td>\n",
       "      <td>21.700000</td>\n",
       "    </tr>\n",
       "    <tr>\n",
       "      <th>max</th>\n",
       "      <td>92.500000</td>\n",
       "      <td>89.700000</td>\n",
       "      <td>37.000000</td>\n",
       "      <td>53.000000</td>\n",
       "      <td>100.00000</td>\n",
       "      <td>26.600000</td>\n",
       "    </tr>\n",
       "  </tbody>\n",
       "</table>\n",
       "</div>"
      ],
      "text/plain": [
       "       Fertility  Agriculture  Examination  Education   Catholic  \\\n",
       "count  47.000000    47.000000    47.000000  47.000000   47.00000   \n",
       "mean   70.142553    50.659574    16.489362  10.978723   41.14383   \n",
       "std    12.491697    22.711218     7.977883   9.615407   41.70485   \n",
       "min    35.000000     1.200000     3.000000   1.000000    2.15000   \n",
       "25%    64.700000    35.900000    12.000000   6.000000    5.19500   \n",
       "50%    70.400000    54.100000    16.000000   8.000000   15.14000   \n",
       "75%    78.450000    67.650000    22.000000  12.000000   93.12500   \n",
       "max    92.500000    89.700000    37.000000  53.000000  100.00000   \n",
       "\n",
       "       Infant.Mortality  \n",
       "count         47.000000  \n",
       "mean          19.942553  \n",
       "std            2.912697  \n",
       "min           10.800000  \n",
       "25%           18.150000  \n",
       "50%           20.000000  \n",
       "75%           21.700000  \n",
       "max           26.600000  "
      ]
     },
     "execution_count": 17,
     "metadata": {},
     "output_type": "execute_result"
    }
   ],
   "source": [
    "#descriptive stats\n",
    "swiss.describe()"
   ]
  },
  {
   "cell_type": "markdown",
   "id": "1381da09",
   "metadata": {},
   "source": [
    "<b>Visualize</b>"
   ]
  },
  {
   "cell_type": "code",
   "execution_count": 18,
   "id": "bc09ab84",
   "metadata": {
    "scrolled": false
   },
   "outputs": [
    {
     "data": {
      "image/png": "[encoded data removed]",
      "text/plain": [
       "<Figure size 640x480 with 1 Axes>"
      ]
     },
     "metadata": {},
     "output_type": "display_data"
    },
    {
     "data": {
      "image/png": "[encoded data removed]",
      "text/plain": [
       "<Figure size 640x480 with 1 Axes>"
      ]
     },
     "metadata": {},
     "output_type": "display_data"
    },
    {
     "name": "stdout",
     "output_type": "stream",
     "text": [
      "------------\n"
     ]
    },
    {
     "data": {
      "image/png": "[encoded data removed]",
      "text/plain": [
       "<Figure size 640x480 with 1 Axes>"
      ]
     },
     "metadata": {},
     "output_type": "display_data"
    },
    {
     "data": {
      "image/png": "[encoded data removed]",
      "text/plain": [
       "<Figure size 640x480 with 1 Axes>"
      ]
     },
     "metadata": {},
     "output_type": "display_data"
    },
    {
     "name": "stdout",
     "output_type": "stream",
     "text": [
      "------------\n"
     ]
    },
    {
     "data": {
      "image/png": "[encoded data removed]",
      "text/plain": [
       "<Figure size 640x480 with 1 Axes>"
      ]
     },
     "metadata": {},
     "output_type": "display_data"
    },
    {
     "data": {
      "image/png": "[encoded data removed]",
      "text/plain": [
       "<Figure size 640x480 with 1 Axes>"
      ]
     },
     "metadata": {},
     "output_type": "display_data"
    },
    {
     "name": "stdout",
     "output_type": "stream",
     "text": [
      "------------\n"
     ]
    },
    {
     "data": {
      "image/png": "[encoded data removed]",
      "text/plain": [
       "<Figure size 640x480 with 1 Axes>"
      ]
     },
     "metadata": {},
     "output_type": "display_data"
    },
    {
     "data": {
      "image/png": "[encoded data removed]",
      "text/plain": [
       "<Figure size 640x480 with 1 Axes>"
      ]
     },
     "metadata": {},
     "output_type": "display_data"
    },
    {
     "name": "stdout",
     "output_type": "stream",
     "text": [
      "------------\n"
     ]
    },
    {
     "data": {
      "image/png": "[encoded data removed]",
      "text/plain": [
       "<Figure size 640x480 with 1 Axes>"
      ]
     },
     "metadata": {},
     "output_type": "display_data"
    },
    {
     "data": {
      "image/png": "[encoded data removed]",
      "text/plain": [
       "<Figure size 640x480 with 1 Axes>"
      ]
     },
     "metadata": {},
     "output_type": "display_data"
    },
    {
     "name": "stdout",
     "output_type": "stream",
     "text": [
      "------------\n"
     ]
    },
    {
     "data": {
      "image/png": "[encoded data removed]",
      "text/plain": [
       "<Figure size 640x480 with 1 Axes>"
      ]
     },
     "metadata": {},
     "output_type": "display_data"
    },
    {
     "data": {
      "image/png": "[encoded data removed]",
      "text/plain": [
       "<Figure size 640x480 with 1 Axes>"
      ]
     },
     "metadata": {},
     "output_type": "display_data"
    },
    {
     "name": "stdout",
     "output_type": "stream",
     "text": [
      "------------\n"
     ]
    }
   ],
   "source": [
    "cols = swiss.columns.to_list()    \n",
    "\n",
    "for col in cols:\n",
    "    plt.hist(swiss[col])\n",
    "    plt.title(col.replace('_',' ').capitalize())\n",
    "    plt.show()\n",
    "    sns.boxplot(data=swiss, x=col)\n",
    "    plt.show()\n",
    "    print('------------')"
   ]
  },
  {
   "cell_type": "markdown",
   "id": "c0ca52fd",
   "metadata": {},
   "source": [
    "<b>Takeaways</b>:\n",
    "- ```Fertility```: There appear to be some outliers here with the break in the histogram and the box plot \n",
    "- ```Agriculture```: no evident outliers\n",
    "- ```Examination```: no evident outliers\n",
    "- ```Education```: appears to have several outliers\n",
    "- ```Catholic```: In the histogram there appears to be an outlier, but the boxplot doesn't show it\n",
    "- ```Infant.Mortality```: there does appear to be an outlier"
   ]
  },
  {
   "cell_type": "markdown",
   "id": "66b13495",
   "metadata": {},
   "source": [
    "<hr style=\"border:1px solid black\">\n",
    "<hr style=\"border:1px solid black\">"
   ]
  },
  {
   "cell_type": "markdown",
   "id": "9cc5eaad",
   "metadata": {},
   "source": [
    "<hr style=\"border:1px solid black\">"
   ]
  },
  {
   "cell_type": "markdown",
   "id": "a312ce66",
   "metadata": {},
   "source": [
    "## IQR"
   ]
  },
  {
   "cell_type": "markdown",
   "id": "b8af36bc",
   "metadata": {},
   "source": [
    "Visualizing:\n",
    "- box and whisker plot will tell you the fences, mean, and outliers (dots)\n",
    "\n",
    "Calculating Fences:\n",
    "- lower fence: Q1 - multiplier * IQR\n",
    "- upper fence: Q3 + multiplier * IQR\n",
    "    \n",
    "Determining Multiplier:\n",
    "- This is how far a point has to be to be considered and outlier\n",
    "- 1.5 is typical inner fence\n",
    "- 3 is for more extreme outliers (outer fence)"
   ]
  },
  {
   "cell_type": "code",
   "execution_count": 19,
   "id": "b7bba9a9",
   "metadata": {},
   "outputs": [
    {
     "data": {
      "text/plain": [
       "12.0"
      ]
     },
     "execution_count": 19,
     "metadata": {},
     "output_type": "execute_result"
    }
   ],
   "source": [
    "#get the 1st quantile of examination column\n",
    "swiss.Examination.quantile(0.25)"
   ]
  },
  {
   "cell_type": "markdown",
   "id": "93cfcf5a",
   "metadata": {},
   "source": [
    "<b>Note</b>:\n",
    "- When the multiplier is set to 1.5, this is an inner fence.\n",
    "- When the multiplier is set to 3, this is an outer fence."
   ]
  },
  {
   "cell_type": "code",
   "execution_count": 20,
   "id": "abf9e452",
   "metadata": {},
   "outputs": [],
   "source": [
    "#start with an inner fence calculation\n",
    "multiplier =1.5\n",
    "\n",
    "#calculate our q1 and q3\n",
    "q1 = swiss.Examination.quantile(0.25)\n",
    "q3 = swiss.Examination.quantile(0.75)\n",
    "iqr = q3-q1"
   ]
  },
  {
   "cell_type": "code",
   "execution_count": 21,
   "id": "da5c6662",
   "metadata": {},
   "outputs": [
    {
     "data": {
      "text/plain": [
       "(12.0, 22.0, 10.0)"
      ]
     },
     "execution_count": 21,
     "metadata": {},
     "output_type": "execute_result"
    }
   ],
   "source": [
    "q1, q3, iqr"
   ]
  },
  {
   "cell_type": "code",
   "execution_count": 22,
   "id": "682e4ecf",
   "metadata": {},
   "outputs": [],
   "source": [
    "#because we are using 1.5 as our multiplier- this will be an inner fence\n",
    "inner_lower_fence = q1 - (multiplier * iqr) \n",
    "inner_upper_fence = q3 + (multiplier * iqr) "
   ]
  },
  {
   "cell_type": "code",
   "execution_count": 23,
   "id": "7d2f9130",
   "metadata": {},
   "outputs": [
    {
     "data": {
      "text/html": [
       "<div>\n",
       "<style scoped>\n",
       "    .dataframe tbody tr th:only-of-type {\n",
       "        vertical-align: middle;\n",
       "    }\n",
       "\n",
       "    .dataframe tbody tr th {\n",
       "        vertical-align: top;\n",
       "    }\n",
       "\n",
       "    .dataframe thead th {\n",
       "        text-align: right;\n",
       "    }\n",
       "</style>\n",
       "<table border=\"1\" class=\"dataframe\">\n",
       "  <thead>\n",
       "    <tr style=\"text-align: right;\">\n",
       "      <th></th>\n",
       "      <th>Fertility</th>\n",
       "      <th>Agriculture</th>\n",
       "      <th>Examination</th>\n",
       "      <th>Education</th>\n",
       "      <th>Catholic</th>\n",
       "      <th>Infant.Mortality</th>\n",
       "    </tr>\n",
       "  </thead>\n",
       "  <tbody>\n",
       "  </tbody>\n",
       "</table>\n",
       "</div>"
      ],
      "text/plain": [
       "Empty DataFrame\n",
       "Columns: [Fertility, Agriculture, Examination, Education, Catholic, Infant.Mortality]\n",
       "Index: []"
      ]
     },
     "execution_count": 23,
     "metadata": {},
     "output_type": "execute_result"
    }
   ],
   "source": [
    "#check out the dataframe where examination is under our fences (lower OR upper)\n",
    "#using pipe for boolean operator \"OR\"\n",
    "swiss[(swiss['Examination'] < inner_lower_fence) | (swiss['Examination'] > inner_upper_fence)]"
   ]
  },
  {
   "cell_type": "code",
   "execution_count": 24,
   "id": "5808249e",
   "metadata": {},
   "outputs": [
    {
     "data": {
      "text/plain": [
       "<AxesSubplot:xlabel='Examination'>"
      ]
     },
     "execution_count": 24,
     "metadata": {},
     "output_type": "execute_result"
    },
    {
     "data": {
      "image/png": "[encoded data removed]",
      "text/plain": [
       "<Figure size 640x480 with 1 Axes>"
      ]
     },
     "metadata": {},
     "output_type": "display_data"
    }
   ],
   "source": [
    "sns.boxplot(data=swiss, x='Examination')"
   ]
  },
  {
   "cell_type": "markdown",
   "id": "cecb9a42",
   "metadata": {},
   "source": [
    "<b>Takeaways</b>:\n",
    "- The IQR confirms what the boxplot already showed us. Examination has no values outside of its fences. Therefore, it has no outliers."
   ]
  },
  {
   "cell_type": "markdown",
   "id": "c780b12b",
   "metadata": {},
   "source": [
    "<hr style=\"border:1px solid black\">\n",
    "<hr style=\"border:1px solid black\">"
   ]
  },
  {
   "cell_type": "markdown",
   "id": "54ece213",
   "metadata": {},
   "source": [
    "## Using Z-score"
   ]
  },
  {
   "cell_type": "markdown",
   "id": "39c9e934",
   "metadata": {},
   "source": [
    "<b>Exponential Tails of the Normal Distribution"
   ]
  },
  {
   "cell_type": "markdown",
   "id": "b79ab608",
   "metadata": {},
   "source": [
    "![](tails_of_normal_distrib.png)"
   ]
  },
  {
   "cell_type": "markdown",
   "id": "d365d0b7",
   "metadata": {},
   "source": [
    "If an event that is +/- 6 standard deviations from the mean is supposed to occure every 1.4 millions years... the stock crash of 1987 is so highly unlikely that it shouldn't have happened in all of lifetimes combined <b>but</b> it is possible!"
   ]
  },
  {
   "cell_type": "markdown",
   "id": "b035482c",
   "metadata": {},
   "source": [
    "<b>Calculation for Z-Score</b>:\n",
    "z = (x-x_mean)/x_std"
   ]
  },
  {
   "cell_type": "markdown",
   "id": "a4f453c1",
   "metadata": {},
   "source": [
    "###  ```Infant.Mortality```"
   ]
  },
  {
   "cell_type": "code",
   "execution_count": 25,
   "id": "84a657d8",
   "metadata": {},
   "outputs": [],
   "source": [
    "#assign a new column to the zscores for infant mortality\n",
    "swiss['infant_mortality_zscores'] = (swiss['Infant.Mortality'] - swiss['Infant.Mortality'].mean()) / swiss['Infant.Mortality'].std()"
   ]
  },
  {
   "cell_type": "code",
   "execution_count": 26,
   "id": "b2c59a22",
   "metadata": {},
   "outputs": [
    {
     "data": {
      "text/plain": [
       "Courtelary      0.775037\n",
       "Delemont        0.775037\n",
       "Franches-Mnt    0.088388\n",
       "Moutier         0.122720\n",
       "Neuveville      0.225718\n",
       "Porrentruy      2.285664\n",
       "Broye           1.255691\n",
       "Glane           1.702013\n",
       "Gruyere         0.363047\n",
       "Sarine          1.530350\n",
       "Veveyse         1.564683\n",
       "Aigle          -1.181913\n",
       "Aubonne        -0.289269\n",
       "Avenches        0.946699\n",
       "Cossonay       -0.426599\n",
       "Echallens       0.431712\n",
       "Grandson        0.019723\n",
       "Lausanne        0.088388\n",
       "La Vallee      -3.138862\n",
       "Lavaux          0.019723\n",
       "Morges         -0.666926\n",
       "Moudon          0.843702\n",
       "Nyone          -1.113248\n",
       "Orbe           -1.593902\n",
       "Oron            0.363047\n",
       "Payerne         1.324356\n",
       "Paysd'enhaut   -0.666926\n",
       "Rolle          -1.250578\n",
       "Vevey           0.328715\n",
       "Yverdon         0.878034\n",
       "Conthey        -1.662567\n",
       "Entremont      -0.048942\n",
       "Herens         -0.563929\n",
       "Martigwy       -0.186272\n",
       "Monthey         0.088388\n",
       "St Maurice     -0.735591\n",
       "Sierre         -1.250578\n",
       "Sion           -0.632594\n",
       "Boudry          0.122720\n",
       "La Chauxdfnd    0.191385\n",
       "Le Locle       -0.357934\n",
       "Neuchatel       1.049696\n",
       "Val de Ruz      0.019723\n",
       "ValdeTravers   -0.151939\n",
       "V. De Geneve   -0.666926\n",
       "Rive Droite    -0.598261\n",
       "Rive Gauche    -0.220604\n",
       "Name: infant_mortality_zscores, dtype: float64"
      ]
     },
     "execution_count": 26,
     "metadata": {},
     "output_type": "execute_result"
    }
   ],
   "source": [
    "#look at z-scores for all of the datapoints within the dataframe\n",
    "swiss['infant_mortality_zscores']"
   ]
  },
  {
   "cell_type": "code",
   "execution_count": 27,
   "id": "3071f81a",
   "metadata": {},
   "outputs": [
    {
     "data": {
      "text/html": [
       "<div>\n",
       "<style scoped>\n",
       "    .dataframe tbody tr th:only-of-type {\n",
       "        vertical-align: middle;\n",
       "    }\n",
       "\n",
       "    .dataframe tbody tr th {\n",
       "        vertical-align: top;\n",
       "    }\n",
       "\n",
       "    .dataframe thead th {\n",
       "        text-align: right;\n",
       "    }\n",
       "</style>\n",
       "<table border=\"1\" class=\"dataframe\">\n",
       "  <thead>\n",
       "    <tr style=\"text-align: right;\">\n",
       "      <th></th>\n",
       "      <th>Fertility</th>\n",
       "      <th>Agriculture</th>\n",
       "      <th>Examination</th>\n",
       "      <th>Education</th>\n",
       "      <th>Catholic</th>\n",
       "      <th>Infant.Mortality</th>\n",
       "      <th>infant_mortality_zscores</th>\n",
       "    </tr>\n",
       "  </thead>\n",
       "  <tbody>\n",
       "    <tr>\n",
       "      <th>La Vallee</th>\n",
       "      <td>54.3</td>\n",
       "      <td>15.2</td>\n",
       "      <td>31</td>\n",
       "      <td>20</td>\n",
       "      <td>2.15</td>\n",
       "      <td>10.8</td>\n",
       "      <td>-3.138862</td>\n",
       "    </tr>\n",
       "  </tbody>\n",
       "</table>\n",
       "</div>"
      ],
      "text/plain": [
       "           Fertility  Agriculture  Examination  Education  Catholic  \\\n",
       "La Vallee       54.3         15.2           31         20      2.15   \n",
       "\n",
       "           Infant.Mortality  infant_mortality_zscores  \n",
       "La Vallee              10.8                 -3.138862  "
      ]
     },
     "execution_count": 27,
     "metadata": {},
     "output_type": "execute_result"
    }
   ],
   "source": [
    "#Let's look to see if anything falls outside of 3 standard deviations\n",
    "#If it does, this could be an anomaly\n",
    "swiss[swiss['infant_mortality_zscores'].abs() >= 3]"
   ]
  },
  {
   "cell_type": "code",
   "execution_count": 28,
   "id": "0aa31564",
   "metadata": {},
   "outputs": [
    {
     "data": {
      "text/plain": [
       "<AxesSubplot:xlabel='Infant.Mortality'>"
      ]
     },
     "execution_count": 28,
     "metadata": {},
     "output_type": "execute_result"
    },
    {
     "data": {
      "image/png": "[encoded data removed]",
      "text/plain": [
       "<Figure size 640x480 with 1 Axes>"
      ]
     },
     "metadata": {},
     "output_type": "display_data"
    }
   ],
   "source": [
    "sns.boxplot(data=swiss, x='Infant.Mortality')"
   ]
  },
  {
   "cell_type": "markdown",
   "id": "74ef4ef6",
   "metadata": {},
   "source": [
    "<b>Takeaways</b>:\n",
    "- The z-scores (stats) and boxplot (visuals) together tell us that ```Infant.Mortality``` could have an anomaly.\n",
    "<br>\n",
    "\n",
    "- This should bring us to ask questions...\n",
    "<br>\n",
    "\n",
    "- What is going on in La Vallee?\n",
    "- Why do they have an exceptionally low infant mortality?\n",
    "- Was this data entered incorrectly (human error) or is it actually an anomaly?"
   ]
  },
  {
   "cell_type": "markdown",
   "id": "cff1bf8f",
   "metadata": {},
   "source": [
    "<hr style=\"border:1px solid black\">"
   ]
  },
  {
   "cell_type": "markdown",
   "id": "5bb47cbb",
   "metadata": {},
   "source": [
    "### ```Examination```"
   ]
  },
  {
   "cell_type": "code",
   "execution_count": 29,
   "id": "bb087a25",
   "metadata": {},
   "outputs": [],
   "source": [
    "#assign a new column to the zscores for Examination\n",
    "swiss['examination_zscores'] = (swiss['Examination'] - swiss['Examination'].mean()) / swiss['Examination'].std()"
   ]
  },
  {
   "cell_type": "code",
   "execution_count": 30,
   "id": "843aeb07",
   "metadata": {},
   "outputs": [
    {
     "data": {
      "text/plain": [
       "Courtelary     -0.186686\n",
       "Delemont       -1.314805\n",
       "Franches-Mnt   -1.440152\n",
       "Moutier        -0.562726\n",
       "Neuveville      0.064007\n",
       "Porrentruy     -0.938766\n",
       "Broye          -0.061340\n",
       "Glane          -0.312033\n",
       "Gruyere        -0.562726\n",
       "Sarine         -0.061340\n",
       "Veveyse        -0.312033\n",
       "Aigle           0.565393\n",
       "Aubonne        -0.312033\n",
       "Avenches        0.314700\n",
       "Cossonay        0.690739\n",
       "Echallens       0.189353\n",
       "Grandson        0.064007\n",
       "Lausanne        1.192126\n",
       "La Vallee       1.818858\n",
       "Lavaux          0.314700\n",
       "Morges          0.690739\n",
       "Moudon         -0.312033\n",
       "Nyone           0.690739\n",
       "Orbe            0.440046\n",
       "Oron           -0.562726\n",
       "Payerne        -0.312033\n",
       "Paysd'enhaut   -1.314805\n",
       "Rolle          -0.061340\n",
       "Vevey           1.066779\n",
       "Yverdon        -0.186686\n",
       "Conthey        -1.690845\n",
       "Entremont      -1.189459\n",
       "Herens         -1.440152\n",
       "Martigwy       -0.562726\n",
       "Monthey        -1.189459\n",
       "St Maurice     -0.938766\n",
       "Sierre         -1.690845\n",
       "Sion           -0.437379\n",
       "Boudry          1.192126\n",
       "La Chauxdfnd    1.568165\n",
       "Le Locle        0.690739\n",
       "Neuchatel       2.320244\n",
       "Val de Ruz     -0.186686\n",
       "ValdeTravers    1.066779\n",
       "V. De Geneve    2.570937\n",
       "Rive Droite    -0.061340\n",
       "Rive Gauche     0.690739\n",
       "Name: examination_zscores, dtype: float64"
      ]
     },
     "execution_count": 30,
     "metadata": {},
     "output_type": "execute_result"
    }
   ],
   "source": [
    "swiss['examination_zscores']"
   ]
  },
  {
   "cell_type": "code",
   "execution_count": 31,
   "id": "8fa9aaa5",
   "metadata": {},
   "outputs": [
    {
     "data": {
      "text/html": [
       "<div>\n",
       "<style scoped>\n",
       "    .dataframe tbody tr th:only-of-type {\n",
       "        vertical-align: middle;\n",
       "    }\n",
       "\n",
       "    .dataframe tbody tr th {\n",
       "        vertical-align: top;\n",
       "    }\n",
       "\n",
       "    .dataframe thead th {\n",
       "        text-align: right;\n",
       "    }\n",
       "</style>\n",
       "<table border=\"1\" class=\"dataframe\">\n",
       "  <thead>\n",
       "    <tr style=\"text-align: right;\">\n",
       "      <th></th>\n",
       "      <th>Fertility</th>\n",
       "      <th>Agriculture</th>\n",
       "      <th>Examination</th>\n",
       "      <th>Education</th>\n",
       "      <th>Catholic</th>\n",
       "      <th>Infant.Mortality</th>\n",
       "      <th>infant_mortality_zscores</th>\n",
       "      <th>examination_zscores</th>\n",
       "    </tr>\n",
       "  </thead>\n",
       "  <tbody>\n",
       "    <tr>\n",
       "      <th>Neuchatel</th>\n",
       "      <td>64.4</td>\n",
       "      <td>17.6</td>\n",
       "      <td>35</td>\n",
       "      <td>32</td>\n",
       "      <td>16.92</td>\n",
       "      <td>23.0</td>\n",
       "      <td>1.049696</td>\n",
       "      <td>2.320244</td>\n",
       "    </tr>\n",
       "    <tr>\n",
       "      <th>V. De Geneve</th>\n",
       "      <td>35.0</td>\n",
       "      <td>1.2</td>\n",
       "      <td>37</td>\n",
       "      <td>53</td>\n",
       "      <td>42.34</td>\n",
       "      <td>18.0</td>\n",
       "      <td>-0.666926</td>\n",
       "      <td>2.570937</td>\n",
       "    </tr>\n",
       "  </tbody>\n",
       "</table>\n",
       "</div>"
      ],
      "text/plain": [
       "              Fertility  Agriculture  Examination  Education  Catholic  \\\n",
       "Neuchatel          64.4         17.6           35         32     16.92   \n",
       "V. De Geneve       35.0          1.2           37         53     42.34   \n",
       "\n",
       "              Infant.Mortality  infant_mortality_zscores  examination_zscores  \n",
       "Neuchatel                 23.0                  1.049696             2.320244  \n",
       "V. De Geneve              18.0                 -0.666926             2.570937  "
      ]
     },
     "execution_count": 31,
     "metadata": {},
     "output_type": "execute_result"
    }
   ],
   "source": [
    "#Let's look to see if anything falls outside of 2 standard deviations\n",
    "#If it does, this could be an anomaly\n",
    "swiss[swiss['examination_zscores'].abs() >= 2]"
   ]
  },
  {
   "cell_type": "code",
   "execution_count": 32,
   "id": "5da03c4f",
   "metadata": {},
   "outputs": [],
   "source": [
    "#IQR\n",
    "inner_multiplier = 1.5\n",
    "q1 = swiss['Infant.Mortality'].quantile(0.25)\n",
    "q3= swiss['Infant.Mortality'].quantile(0.75)\n",
    "iqr= q3- q1"
   ]
  },
  {
   "cell_type": "code",
   "execution_count": 33,
   "id": "c1b8324c",
   "metadata": {},
   "outputs": [],
   "source": [
    "inner_lower_fence = q1 - (inner_multiplier * iqr)\n",
    "inner_upper_fence = q3 + (inner_multiplier * iqr)"
   ]
  },
  {
   "cell_type": "code",
   "execution_count": 34,
   "id": "32d998dd",
   "metadata": {},
   "outputs": [
    {
     "data": {
      "text/html": [
       "<div>\n",
       "<style scoped>\n",
       "    .dataframe tbody tr th:only-of-type {\n",
       "        vertical-align: middle;\n",
       "    }\n",
       "\n",
       "    .dataframe tbody tr th {\n",
       "        vertical-align: top;\n",
       "    }\n",
       "\n",
       "    .dataframe thead th {\n",
       "        text-align: right;\n",
       "    }\n",
       "</style>\n",
       "<table border=\"1\" class=\"dataframe\">\n",
       "  <thead>\n",
       "    <tr style=\"text-align: right;\">\n",
       "      <th></th>\n",
       "      <th>Fertility</th>\n",
       "      <th>Agriculture</th>\n",
       "      <th>Examination</th>\n",
       "      <th>Education</th>\n",
       "      <th>Catholic</th>\n",
       "      <th>Infant.Mortality</th>\n",
       "      <th>infant_mortality_zscores</th>\n",
       "      <th>examination_zscores</th>\n",
       "    </tr>\n",
       "  </thead>\n",
       "  <tbody>\n",
       "    <tr>\n",
       "      <th>La Vallee</th>\n",
       "      <td>54.3</td>\n",
       "      <td>15.2</td>\n",
       "      <td>31</td>\n",
       "      <td>20</td>\n",
       "      <td>2.15</td>\n",
       "      <td>10.8</td>\n",
       "      <td>-3.138862</td>\n",
       "      <td>1.818858</td>\n",
       "    </tr>\n",
       "  </tbody>\n",
       "</table>\n",
       "</div>"
      ],
      "text/plain": [
       "           Fertility  Agriculture  Examination  Education  Catholic  \\\n",
       "La Vallee       54.3         15.2           31         20      2.15   \n",
       "\n",
       "           Infant.Mortality  infant_mortality_zscores  examination_zscores  \n",
       "La Vallee              10.8                 -3.138862             1.818858  "
      ]
     },
     "execution_count": 34,
     "metadata": {},
     "output_type": "execute_result"
    }
   ],
   "source": [
    "swiss[(swiss['Infant.Mortality'] < inner_lower_fence) | (swiss['Infant.Mortality'] > inner_upper_fence)]"
   ]
  },
  {
   "cell_type": "markdown",
   "id": "88d82d46",
   "metadata": {},
   "source": [
    "<b>Note</b>:\n",
    "- 2 standard deviations contains 95% of the data\n",
    "- We might want to investigate ```examination``` further"
   ]
  }
 ],
 "metadata": {
  "kernelspec": {
   "display_name": "Python 3 (ipykernel)",
   "language": "python",
   "name": "python3"
  },
  "language_info": {
   "codemirror_mode": {
    "name": "ipython",
    "version": 3
   },
   "file_extension": ".py",
   "mimetype": "text/x-python",
   "name": "python",
   "nbconvert_exporter": "python",
   "pygments_lexer": "ipython3",
   "version": "3.9.15"
  },
  "toc": {
   "base_numbering": 1,
   "nav_menu": {},
   "number_sections": true,
   "sideBar": true,
   "skip_h1_title": false,
   "title_cell": "Table of Contents",
   "title_sidebar": "Contents",
   "toc_cell": false,
   "toc_position": {},
   "toc_section_display": true,
   "toc_window_display": false
  }
 },
 "nbformat": 4,
 "nbformat_minor": 5
}
