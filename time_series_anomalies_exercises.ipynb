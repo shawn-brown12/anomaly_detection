{
 "cells": [
  {
   "cell_type": "markdown",
   "id": "1eb87db9",
   "metadata": {},
   "source": [
    "# Time Series Anomalies Exercises"
   ]
  },
  {
   "cell_type": "code",
   "execution_count": 1,
   "id": "23c27168",
   "metadata": {},
   "outputs": [],
   "source": [
    "import pandas as pd\n",
    "import numpy as np\n",
    "import matplotlib.pyplot as plt\n",
    "import seaborn as sns\n",
    "\n",
    "import wrangle as wr\n",
    "from env import host, username, password"
   ]
  },
  {
   "cell_type": "markdown",
   "id": "fcbea1ef",
   "metadata": {},
   "source": [
    "The dataset for these exercises lives in the Codeup Data Science MySQL Server. The database name is curriculum_logs.\n",
    "\n",
    "Go through the lesson commenting code, adding docstrings, and adding markdown to support what is happening."
   ]
  },
  {
   "cell_type": "markdown",
   "id": "2804e832",
   "metadata": {},
   "source": [
    "```sql\n",
    "query = '''\n",
    "        SELECT *\n",
    "        FROM logs\n",
    "        '''\n",
    "```\n",
    "\n",
    "- This turns our SQL query into a variable to be used in the function to retrieve the data"
   ]
  },
  {
   "cell_type": "markdown",
   "id": "212c6df5",
   "metadata": {},
   "source": [
    "```python\n",
    "url = wr.get_connection('curriculum_logs')\n",
    "```\n",
    "\n",
    "- This will turn the calling of our function to get the data into a variable name"
   ]
  },
  {
   "cell_type": "markdown",
   "id": "d632d2fb",
   "metadata": {},
   "source": [
    "```python\n",
    "df = pd.read_sql(query, url)\n",
    "df.head()\n",
    "```\n",
    "\n",
    "- This will run the function to collect the data and turn it into a dataframe for use"
   ]
  },
  {
   "cell_type": "markdown",
   "id": "0bafbfde",
   "metadata": {},
   "source": [
    "```python\n",
    "df = pd.read_csv('curriculum_logs.csv')\n",
    "```\n",
    "\n",
    "- This will turn that just created dataframe into a csv within the directory so that we don't need to run the query again."
   ]
  },
  {
   "cell_type": "markdown",
   "id": "1da9b46d",
   "metadata": {},
   "source": [
    "```python\n",
    "df['date'] = pd.to_datetime(df['date'], infer_datetime_format=True)\n",
    "df.dtypes\n",
    "```\n",
    "\n",
    "- This will turn the date column into a datetime data type so that we can convert it into the index."
   ]
  },
  {
   "cell_type": "markdown",
   "id": "03b57ca7",
   "metadata": {},
   "source": [
    "```python\n",
    "df = df.set_index('date')\n",
    "```\n",
    "\n",
    "- This will actually set the date column to the index"
   ]
  },
  {
   "cell_type": "markdown",
   "id": "c95f9b87",
   "metadata": {},
   "source": [
    "```python\n",
    "daily_hits = df['path'].resample('d').count()\n",
    "```\n",
    "\n",
    "This will create the variable daily_hits to be the dataframe, resampled by the 'path' column, and turned into a value count of for each day"
   ]
  },
  {
   "cell_type": "markdown",
   "id": "d3efb2f8",
   "metadata": {},
   "source": [
    "```python\n",
    "weekly_avg = daily_hits.ewm(span=7).mean()\n",
    "```\n",
    "\n",
    "This will create the exponential moving average (ewm) from the daily_hits series. You must define the span to use here, which, since we resampled by each day, making the span 7 will create the exponential moving average to be calculated by the last 7 days. It will then turn that into an average"
   ]
  },
  {
   "cell_type": "markdown",
   "id": "1bb46754",
   "metadata": {},
   "source": [
    "```python\n",
    "monthly_avg = daily_hits.ewm(span=30).mean()\n",
    "```\n",
    "\n",
    "The same as above, but for a month instead of a week"
   ]
  },
  {
   "cell_type": "markdown",
   "id": "3f60fe96",
   "metadata": {},
   "source": [
    "```python\n",
    "quarterly_avg = daily_hits.ewm(span=90).mean()\n",
    "```\n",
    "\n",
    "Also the same as above, but for a quarter (90 days)"
   ]
  },
  {
   "cell_type": "markdown",
   "id": "9913cab8",
   "metadata": {},
   "source": [
    "```python\n",
    "plt.figure(figsize=(13, 7))\n",
    "plt.plot(daily_hits, label='Original')\n",
    "plt.plot(weekly_avg, label='Weekly')\n",
    "plt.plot(monthly_avg, label='Monthly')\n",
    "plt.plot(quarterly_avg, label='Quarterly')\n",
    "plt.xlabel('Date')\n",
    "plt.ylabel('Number of hits')\n",
    "plt.title('EMA of website hits over time')\n",
    "plt.legend()\n",
    "plt.show()\n",
    "```\n",
    "\n",
    "This will basically plot each of those three averages against the original data, so that we can visualize how each is compared to the others"
   ]
  },
  {
   "cell_type": "markdown",
   "id": "f7ee254d",
   "metadata": {},
   "source": [
    "Now onto Bollinger bands, which are used to indicate volatility in price over time. The three parts of the bollinger bands are the lower band, the upper band, and the midband.\n",
    "\n",
    "The upper and lower bands are calculated by:\n",
    "\n",
    "midband +/- standard deviation * k\n",
    "\n",
    "`+` for the upper band\n",
    "\n",
    "`-` for the lower band"
   ]
  },
  {
   "cell_type": "markdown",
   "id": "600c2ecf",
   "metadata": {},
   "source": [
    "```python\n",
    "monthly_std = daily_hits.ewm(span=30).std()\n",
    "```\n",
    "\n",
    "Doing very similar as above, but instead of getting the mean for the emw we are getting the standard deviation"
   ]
  },
  {
   "cell_type": "markdown",
   "id": "ace12104",
   "metadata": {},
   "source": [
    "```python\n",
    "upper_band = monthly_avg + monthly_std * 1.5\n",
    "lower_band = monthly_avg - monthly_std * 1.5\n",
    "```\n",
    "\n",
    "Getting the upper and lower bands; equation is very similar to what we use to determine the fences for the `iqr`"
   ]
  },
  {
   "cell_type": "markdown",
   "id": "7c4a8a38",
   "metadata": {},
   "source": [
    "```python\n",
    "final_df = pd.concat([daily_hits, monthly_avg, upper_band, lower_band], axis=1)\n",
    "```\n",
    "\n",
    "Creating and concatenating onto a final dataframe with each piece of information to use and plot the bands"
   ]
  },
  {
   "cell_type": "markdown",
   "id": "7d2bfe18",
   "metadata": {},
   "source": [
    "```python\n",
    "final_df.columns = ['hits', 'midband', 'upper_band', 'lower_band']\n",
    "```\n",
    "\n",
    "Renaming the columns in the newly created dataframe so that they are accurate and make sense"
   ]
  },
  {
   "cell_type": "markdown",
   "id": "64669017",
   "metadata": {},
   "source": [
    "```python\n",
    "plt.figure(figsize=(13, 7))\n",
    "plt.plot(final_df['hits'], label='Original')\n",
    "plt.plot(final_df['midband'], label='Midband')\n",
    "plt.plot(final_df['upper_band'], label='Upper Band')\n",
    "plt.plot(final_df['lower_band'], label='Lower Band')\n",
    "plt.xlabel('Date')\n",
    "plt.ylabel('Number of hits')\n",
    "plt.title('Bollinger bands for curriculum hits')\n",
    "plt.legend()\n",
    "plt.show()\n",
    "```\n",
    "\n",
    "This will essentially plot out the data with the bolinger bands so you can visually see what they are for each data point."
   ]
  },
  {
   "cell_type": "markdown",
   "id": "63f21c99",
   "metadata": {},
   "source": [
    "Now for the %b, which defines where a value lays relative to the created bands.\n",
    "\n",
    "the formula is:\n",
    "\n",
    "(last - lower band) / (upper band - lower band)\n",
    "\n",
    "A value greater than 1 lies above the upper band, and below 0 is below the lower band"
   ]
  },
  {
   "cell_type": "markdown",
   "id": "ce262e95",
   "metadata": {},
   "source": [
    "```python \n",
    "(final_df['hits'] - final_df['lower_band']) / (final_df['upper_band'] - final_df['lower_band'])\n",
    "```\n",
    "\n",
    "This is the formula for the %b for our dataset"
   ]
  },
  {
   "cell_type": "markdown",
   "id": "68292ec3",
   "metadata": {},
   "source": [
    "```python\n",
    "final_df['pct_b'] = (final_df['hits'] - final_df['lower_band']) / (final_df['upper_band'] - final_df['lower_band'])\n",
    "```\n",
    "\n",
    "this is the code to actually use that formula to create a column within the current dataframe that has the actual value for each row"
   ]
  },
  {
   "cell_type": "markdown",
   "id": "dac3c427",
   "metadata": {},
   "source": [
    "```python\n",
    "final_df[final_df['pct_b'] > 1].sort_values('pct_b', ascending=False).head()\n",
    "```\n",
    "\n",
    "We can use this to filter out all of the values that fall underneath the upper bound; so essentially this will return all of the values that are above the upper bound"
   ]
  },
  {
   "cell_type": "markdown",
   "id": "7ab053c7",
   "metadata": {},
   "source": [
    "```python\n",
    "final_df[final_df['pct_b'] < 0].sort_values('pct_b').head()\n",
    "```\n",
    "\n",
    "Same as above, but for everything below the lower bound"
   ]
  },
  {
   "cell_type": "markdown",
   "id": "8a7376b9",
   "metadata": {},
   "source": [
    "```python\n",
    "def compute_bollinger(series, col, span=30, k=1.5):\n",
    "    '''\n",
    "    Function will take in a resampled series of data, as well as a column name, a span for the ewm method, \n",
    "    and k for the fences of our iqr to return a plot for the bollinger bands of the data, \n",
    "    as well as a df that holds those values.\n",
    "    '''\n",
    "    \n",
    "    mean_df = series.ewm(span=span).mean()\n",
    "    std_df = series.ewm(span=span).std()\n",
    "    \n",
    "    upper_band = mean_df + std_df * k\n",
    "    lower_band = mean_df - std_df * k\n",
    "    \n",
    "    final_df = pd.concat([series, mean_df, upper_band, lower_band], axis=1)\n",
    "    \n",
    "    final_df.columns = [col, 'midband', 'upper_band', 'lower_band']\n",
    "    \n",
    "    final_df['pct_b'] = (final_df[col] - final_df['lower_band']) / (final_df['upper_band'] - final_df['lower_band'])\n",
    "    \n",
    "    plt.figure(figsize=(13, 7))\n",
    "    plt.plot(final_df['hits'], label='Original')\n",
    "    plt.plot(final_df['midband'], label='Midband')\n",
    "    plt.plot(final_df['upper_band'], label='Upper Band')\n",
    "    plt.plot(final_df['lower_band'], label='Lower Band')\n",
    "    \n",
    "    plt.title(f'Bollinger Bands for Data')\n",
    "    \n",
    "    plt.legend()\n",
    "    plt.show()\n",
    "\n",
    "    return final_df\n",
    "```\n",
    "\n",
    "Function created in class that I added onto to become more useful to basically do everything shown above, aside from resampling the data into a series"
   ]
  },
  {
   "cell_type": "code",
   "execution_count": null,
   "id": "96b0c054",
   "metadata": {},
   "outputs": [],
   "source": []
  }
 ],
 "metadata": {
  "kernelspec": {
   "display_name": "Python 3 (ipykernel)",
   "language": "python",
   "name": "python3"
  },
  "language_info": {
   "codemirror_mode": {
    "name": "ipython",
    "version": 3
   },
   "file_extension": ".py",
   "mimetype": "text/x-python",
   "name": "python",
   "nbconvert_exporter": "python",
   "pygments_lexer": "ipython3",
   "version": "3.9.15"
  },
  "toc": {
   "base_numbering": 1,
   "nav_menu": {},
   "number_sections": true,
   "sideBar": true,
   "skip_h1_title": false,
   "title_cell": "Table of Contents",
   "title_sidebar": "Contents",
   "toc_cell": false,
   "toc_position": {},
   "toc_section_display": true,
   "toc_window_display": false
  }
 },
 "nbformat": 4,
 "nbformat_minor": 5
}
